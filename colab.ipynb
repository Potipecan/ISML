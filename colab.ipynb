{
 "cells": [
  {
   "cell_type": "code",
   "execution_count": 1,
   "id": "53e61e8c",
   "metadata": {
    "execution": {
     "iopub.execute_input": "2025-06-09T06:44:39.891321Z",
     "iopub.status.busy": "2025-06-09T06:44:39.891013Z",
     "iopub.status.idle": "2025-06-09T06:44:44.120660Z",
     "shell.execute_reply": "2025-06-09T06:44:44.119669Z"
    },
    "id": "vjUPsXpv7Agr",
    "papermill": {
     "duration": 4.23479,
     "end_time": "2025-06-09T06:44:44.122418",
     "exception": false,
     "start_time": "2025-06-09T06:44:39.887628",
     "status": "completed"
    },
    "tags": []
   },
   "outputs": [
    {
     "name": "stdout",
     "output_type": "stream",
     "text": [
      "/kaggle/input/github\n"
     ]
    }
   ],
   "source": [
    "%cd /kaggle/input/github\n",
    "!mkdir -p /kaggle/working/results\n",
    "from pathlib import Path\n",
    "import train as tr\n",
    "import os\n",
    "\n",
    "res_dir = '/kaggle/working/results'\n",
    "\n",
    "def cv(conf, c_file = \"characteristics/chara_2x2.csv\"):\n",
    "    \n",
    "    conf_path = Path(conf)\n",
    "    c_path = Path(c_file)\n",
    "    print(f\"Runninng config {conf_path.stem} on dataset {c_path.stem}\")\n",
    "    res_path = f\"{res_dir}/{conf_path.stem}-{c_path.stem}.json\"\n",
    "    tr.train(res_path, conf, c_file, False)"
   ]
  },
  {
   "cell_type": "code",
   "execution_count": 2,
   "id": "b3be5f4e",
   "metadata": {
    "execution": {
     "iopub.execute_input": "2025-06-09T06:44:44.127758Z",
     "iopub.status.busy": "2025-06-09T06:44:44.127303Z",
     "iopub.status.idle": "2025-06-09T06:44:44.256860Z",
     "shell.execute_reply": "2025-06-09T06:44:44.255664Z"
    },
    "id": "Mp21piljq7YC",
    "papermill": {
     "duration": 0.134222,
     "end_time": "2025-06-09T06:44:44.258694",
     "exception": false,
     "start_time": "2025-06-09T06:44:44.124472",
     "status": "completed"
    },
    "tags": []
   },
   "outputs": [
    {
     "name": "stdout",
     "output_type": "stream",
     "text": [
      "/kaggle/input/github\n"
     ]
    }
   ],
   "source": [
    "%cd /kaggle/input/github/\n",
    "!mkdir -p /kaggle/working/hyper\n",
    "\n",
    "# generate known result configs\n",
    "import os\n",
    "import json\n",
    "\n",
    "\n",
    "# for f in os.scandir('/kaggle/input/github/results'):\n",
    "#   name = f.name.split(\"_\")[0]\n",
    "#   j = json.load(open(f, 'rt'))\n",
    "#   d = {\n",
    "#       \"model\": name,\n",
    "#       \"hyper\": j['hyperparams'],\n",
    "#   }\n",
    "#   with open(f\"/kaggle/working/hyper/{name}_hyper.json\", 'w') as f:\n",
    "#     json.dump(d, f)\n",
    "\n",
    "def hyper(conf, sizes=[3, 4, 5, 6, 10]):\n",
    "    for s in sizes:\n",
    "        chara_f = f\"/kaggle/input/github/characteristics/chara_{s}x{s}.csv\"\n",
    "        cv(conf, chara_f)\n",
    "\n"
   ]
  },
  {
   "cell_type": "code",
   "execution_count": 3,
   "id": "6f3ebbfc",
   "metadata": {
    "execution": {
     "iopub.execute_input": "2025-06-09T06:44:44.263701Z",
     "iopub.status.busy": "2025-06-09T06:44:44.263402Z",
     "iopub.status.idle": "2025-06-09T14:56:08.056800Z",
     "shell.execute_reply": "2025-06-09T14:56:08.051629Z"
    },
    "papermill": {
     "duration": 29483.802259,
     "end_time": "2025-06-09T14:56:08.062875",
     "exception": false,
     "start_time": "2025-06-09T06:44:44.260616",
     "status": "completed"
    },
    "tags": []
   },
   "outputs": [
    {
     "name": "stdout",
     "output_type": "stream",
     "text": [
      "/kaggle/input/github/train_confs\n",
      "Runninng config MLPClassifier on dataset chara_10x10-filtered_iso\n",
      "Fitting 5 folds for each of 20 candidates, totalling 100 fits\n"
     ]
    }
   ],
   "source": [
    "%cd /kaggle/input/github/train_confs\n",
    "#cv(\"final/MLPClassifier.json\", \"/kaggle/input/github/characteristics/chara_10x10-filtered_z.csv\")\n",
    "#cv(\"final/MLPClassifier.json\", \"/kaggle/input/github/characteristics/chara_10x10-filtered_iqr.csv\")\n",
    "cv(\"final/MLPClassifier.json\", \"/kaggle/input/github/characteristics/chara_10x10-filtered_iso.csv\")"
   ]
  }
 ],
 "metadata": {
  "colab": {
   "provenance": []
  },
  "kaggle": {
   "accelerator": "none",
   "dataSources": [
    {
     "datasetId": 7617793,
     "sourceId": 12100268,
     "sourceType": "datasetVersion"
    }
   ],
   "isGpuEnabled": false,
   "isInternetEnabled": false,
   "language": "python",
   "sourceType": "notebook"
  },
  "kernelspec": {
   "display_name": "Python 3",
   "language": "python",
   "name": "python3"
  },
  "language_info": {
   "codemirror_mode": {
    "name": "ipython",
    "version": 3
   },
   "file_extension": ".py",
   "mimetype": "text/x-python",
   "name": "python",
   "nbconvert_exporter": "python",
   "pygments_lexer": "ipython3",
   "version": "3.11.11"
  },
  "papermill": {
   "default_parameters": {},
   "duration": 29495.66211,
   "end_time": "2025-06-09T14:56:10.801217",
   "environment_variables": {},
   "exception": null,
   "input_path": "__notebook__.ipynb",
   "output_path": "__notebook__.ipynb",
   "parameters": {},
   "start_time": "2025-06-09T06:44:35.139107",
   "version": "2.6.0"
  }
 },
 "nbformat": 4,
 "nbformat_minor": 5
}

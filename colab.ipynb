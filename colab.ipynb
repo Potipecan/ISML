{
 "cells": [
  {
   "cell_type": "code",
   "execution_count": 1,
   "id": "d5dbbaa4",
   "metadata": {
    "execution": {
     "iopub.execute_input": "2025-05-29T09:35:43.799835Z",
     "iopub.status.busy": "2025-05-29T09:35:43.799457Z",
     "iopub.status.idle": "2025-05-29T09:35:46.409407Z",
     "shell.execute_reply": "2025-05-29T09:35:46.408308Z"
    },
    "id": "vjUPsXpv7Agr",
    "papermill": {
     "duration": 2.617733,
     "end_time": "2025-05-29T09:35:46.411304",
     "exception": false,
     "start_time": "2025-05-29T09:35:43.793571",
     "status": "completed"
    },
    "tags": []
   },
   "outputs": [
    {
     "name": "stdout",
     "output_type": "stream",
     "text": [
      "/kaggle/input/github\n"
     ]
    }
   ],
   "source": [
    "%cd /kaggle/input/github\n",
    "!mkdir -p /kaggle/working/results\n",
    "from pathlib import Path\n",
    "import train as tr\n",
    "import os\n",
    "\n",
    "res_dir = '/kaggle/working/results'\n",
    "\n",
    "def cv(conf, c_file = \"characteristics/chara_2x2.csv\"):\n",
    "    \n",
    "    conf_path = Path(conf)\n",
    "    c_path = Path(c_file)\n",
    "    print(f\"Runninng config {conf_path.stem} on dataset {c_path.stem}\")\n",
    "    res_path = f\"{res_dir}/{conf_path.stem}-{c_path.stem}.json\"\n",
    "    tr.train(res_path, conf, c_file, False)"
   ]
  },
  {
   "cell_type": "code",
   "execution_count": 2,
   "id": "853107a4",
   "metadata": {
    "execution": {
     "iopub.execute_input": "2025-05-29T09:35:46.421393Z",
     "iopub.status.busy": "2025-05-29T09:35:46.420828Z",
     "iopub.status.idle": "2025-05-29T09:35:46.427090Z",
     "shell.execute_reply": "2025-05-29T09:35:46.425595Z"
    },
    "papermill": {
     "duration": 0.013417,
     "end_time": "2025-05-29T09:35:46.428861",
     "exception": false,
     "start_time": "2025-05-29T09:35:46.415444",
     "status": "completed"
    },
    "tags": []
   },
   "outputs": [],
   "source": [
    "#cv(\"/kaggle/input/github/train_confs/cv/AdaBoostClassifier_cv.json\")"
   ]
  },
  {
   "cell_type": "code",
   "execution_count": 3,
   "id": "817220f6",
   "metadata": {
    "execution": {
     "iopub.execute_input": "2025-05-29T09:35:46.438806Z",
     "iopub.status.busy": "2025-05-29T09:35:46.438371Z",
     "iopub.status.idle": "2025-05-29T09:35:46.444211Z",
     "shell.execute_reply": "2025-05-29T09:35:46.442379Z"
    },
    "papermill": {
     "duration": 0.013729,
     "end_time": "2025-05-29T09:35:46.446606",
     "exception": false,
     "start_time": "2025-05-29T09:35:46.432877",
     "status": "completed"
    },
    "tags": []
   },
   "outputs": [],
   "source": [
    "#cv(\"/kaggle/input/github/train_confs/cv/DecisionTreeClassifier_cv.json\")"
   ]
  },
  {
   "cell_type": "code",
   "execution_count": 4,
   "id": "1195cfeb",
   "metadata": {
    "execution": {
     "iopub.execute_input": "2025-05-29T09:35:46.457532Z",
     "iopub.status.busy": "2025-05-29T09:35:46.456520Z",
     "iopub.status.idle": "2025-05-29T09:35:46.462910Z",
     "shell.execute_reply": "2025-05-29T09:35:46.461787Z"
    },
    "papermill": {
     "duration": 0.013834,
     "end_time": "2025-05-29T09:35:46.464376",
     "exception": false,
     "start_time": "2025-05-29T09:35:46.450542",
     "status": "completed"
    },
    "tags": []
   },
   "outputs": [],
   "source": [
    "#cv(\"/kaggle/input/github/train_confs/cv/KNeighborsClassifier_cv.json\")"
   ]
  },
  {
   "cell_type": "code",
   "execution_count": 5,
   "id": "7f6b5612",
   "metadata": {
    "execution": {
     "iopub.execute_input": "2025-05-29T09:35:46.473731Z",
     "iopub.status.busy": "2025-05-29T09:35:46.473287Z",
     "iopub.status.idle": "2025-05-29T09:35:46.478834Z",
     "shell.execute_reply": "2025-05-29T09:35:46.476828Z"
    },
    "papermill": {
     "duration": 0.013143,
     "end_time": "2025-05-29T09:35:46.481517",
     "exception": false,
     "start_time": "2025-05-29T09:35:46.468374",
     "status": "completed"
    },
    "tags": []
   },
   "outputs": [],
   "source": [
    "#cv(\"/kaggle/input/github/train_confs/cv/LogisticRegression_cv.json\")"
   ]
  },
  {
   "cell_type": "code",
   "execution_count": 6,
   "id": "8c2ac119",
   "metadata": {
    "execution": {
     "iopub.execute_input": "2025-05-29T09:35:46.491618Z",
     "iopub.status.busy": "2025-05-29T09:35:46.491266Z",
     "iopub.status.idle": "2025-05-29T09:35:46.496515Z",
     "shell.execute_reply": "2025-05-29T09:35:46.495041Z"
    },
    "papermill": {
     "duration": 0.012163,
     "end_time": "2025-05-29T09:35:46.498181",
     "exception": false,
     "start_time": "2025-05-29T09:35:46.486018",
     "status": "completed"
    },
    "tags": []
   },
   "outputs": [],
   "source": [
    "#cv(\"/kaggle/input/github/train_confs/cv/SGDClassifier_cv.json\")"
   ]
  },
  {
   "cell_type": "code",
   "execution_count": 7,
   "id": "81679191",
   "metadata": {
    "execution": {
     "iopub.execute_input": "2025-05-29T09:35:46.507580Z",
     "iopub.status.busy": "2025-05-29T09:35:46.507061Z",
     "iopub.status.idle": "2025-05-29T09:35:46.511969Z",
     "shell.execute_reply": "2025-05-29T09:35:46.510886Z"
    },
    "papermill": {
     "duration": 0.011377,
     "end_time": "2025-05-29T09:35:46.513650",
     "exception": false,
     "start_time": "2025-05-29T09:35:46.502273",
     "status": "completed"
    },
    "tags": []
   },
   "outputs": [],
   "source": [
    "#cv(\"/kaggle/input/github/train_confs/cv/RidgeClassifier_cv.json\")"
   ]
  },
  {
   "cell_type": "code",
   "execution_count": 8,
   "id": "d32e83c2",
   "metadata": {
    "execution": {
     "iopub.execute_input": "2025-05-29T09:35:46.523179Z",
     "iopub.status.busy": "2025-05-29T09:35:46.522843Z",
     "iopub.status.idle": "2025-05-29T09:35:46.527119Z",
     "shell.execute_reply": "2025-05-29T09:35:46.526305Z"
    },
    "papermill": {
     "duration": 0.010877,
     "end_time": "2025-05-29T09:35:46.528788",
     "exception": false,
     "start_time": "2025-05-29T09:35:46.517911",
     "status": "completed"
    },
    "tags": []
   },
   "outputs": [],
   "source": [
    "#cv(\"/kaggle/input/github/train_confs/cv/MLPClassifier_cv.json\")"
   ]
  },
  {
   "cell_type": "code",
   "execution_count": 9,
   "id": "da72ee7d",
   "metadata": {
    "execution": {
     "iopub.execute_input": "2025-05-29T09:35:46.538941Z",
     "iopub.status.busy": "2025-05-29T09:35:46.538580Z",
     "iopub.status.idle": "2025-05-29T09:35:46.542930Z",
     "shell.execute_reply": "2025-05-29T09:35:46.541946Z"
    },
    "papermill": {
     "duration": 0.011844,
     "end_time": "2025-05-29T09:35:46.544568",
     "exception": false,
     "start_time": "2025-05-29T09:35:46.532724",
     "status": "completed"
    },
    "tags": []
   },
   "outputs": [],
   "source": [
    "#cv(\"/kaggle/input/github/train_confs/cv/GradientBoostingClassifier_cv.json\")"
   ]
  },
  {
   "cell_type": "code",
   "execution_count": 10,
   "id": "9d7614aa",
   "metadata": {
    "execution": {
     "iopub.execute_input": "2025-05-29T09:35:46.554543Z",
     "iopub.status.busy": "2025-05-29T09:35:46.554170Z",
     "iopub.status.idle": "2025-05-29T09:35:46.559089Z",
     "shell.execute_reply": "2025-05-29T09:35:46.557782Z"
    },
    "papermill": {
     "duration": 0.012134,
     "end_time": "2025-05-29T09:35:46.561107",
     "exception": false,
     "start_time": "2025-05-29T09:35:46.548973",
     "status": "completed"
    },
    "tags": []
   },
   "outputs": [],
   "source": [
    "#cv(\"/kaggle/input/github/train_confs/cv/HistGradientBoostingClassifier_cv.json\")"
   ]
  },
  {
   "cell_type": "code",
   "execution_count": 11,
   "id": "47d5b4f3",
   "metadata": {
    "execution": {
     "iopub.execute_input": "2025-05-29T09:35:46.570316Z",
     "iopub.status.busy": "2025-05-29T09:35:46.570005Z",
     "iopub.status.idle": "2025-05-29T09:35:46.574831Z",
     "shell.execute_reply": "2025-05-29T09:35:46.573659Z"
    },
    "papermill": {
     "duration": 0.011339,
     "end_time": "2025-05-29T09:35:46.576494",
     "exception": false,
     "start_time": "2025-05-29T09:35:46.565155",
     "status": "completed"
    },
    "tags": []
   },
   "outputs": [],
   "source": [
    "#cv(\"/kaggle/input/github/train_confs/cv/RandomForestClassifier_cv.json\")"
   ]
  },
  {
   "cell_type": "code",
   "execution_count": 12,
   "id": "f6b8f5d4",
   "metadata": {
    "execution": {
     "iopub.execute_input": "2025-05-29T09:35:46.586254Z",
     "iopub.status.busy": "2025-05-29T09:35:46.585571Z",
     "iopub.status.idle": "2025-05-29T09:35:46.984678Z",
     "shell.execute_reply": "2025-05-29T09:35:46.983345Z"
    },
    "id": "Mp21piljq7YC",
    "papermill": {
     "duration": 0.406118,
     "end_time": "2025-05-29T09:35:46.986544",
     "exception": false,
     "start_time": "2025-05-29T09:35:46.580426",
     "status": "completed"
    },
    "tags": []
   },
   "outputs": [
    {
     "name": "stdout",
     "output_type": "stream",
     "text": [
      "/kaggle/input/github\n"
     ]
    }
   ],
   "source": [
    "%cd /kaggle/input/github/\n",
    "!mkdir -p /kaggle/working/hyper\n",
    "\n",
    "# generate known result configs\n",
    "import os\n",
    "import json\n",
    "\n",
    "\n",
    "for f in os.scandir('/kaggle/input/github/results'):\n",
    "  name = f.name.split(\"_\")[0]\n",
    "  j = json.load(open(f, 'rt'))\n",
    "  d = {\n",
    "      \"model\": name,\n",
    "      \"hyper\": j['hyperparams'],\n",
    "  }\n",
    "  with open(f\"/kaggle/working/hyper/{name}_hyper.json\", 'w') as f:\n",
    "    json.dump(d, f)\n",
    "\n",
    "def hyper(conf, sizes=[3, 4, 5, 6, 10]):\n",
    "    for s in sizes:\n",
    "        chara_f = f\"/kaggle/input/github/characteristics/chara_{s}x{s}.csv\"\n",
    "        cv(conf, chara_f)\n",
    "\n"
   ]
  },
  {
   "cell_type": "code",
   "execution_count": 13,
   "id": "27d81972",
   "metadata": {
    "execution": {
     "iopub.execute_input": "2025-05-29T09:35:46.996352Z",
     "iopub.status.busy": "2025-05-29T09:35:46.995963Z",
     "iopub.status.idle": "2025-05-29T09:35:47.003607Z",
     "shell.execute_reply": "2025-05-29T09:35:47.002319Z"
    },
    "papermill": {
     "duration": 0.014382,
     "end_time": "2025-05-29T09:35:47.005281",
     "exception": false,
     "start_time": "2025-05-29T09:35:46.990899",
     "status": "completed"
    },
    "tags": []
   },
   "outputs": [
    {
     "name": "stdout",
     "output_type": "stream",
     "text": [
      "/kaggle/input/github/train_confs\n"
     ]
    }
   ],
   "source": [
    "%cd /kaggle/input/github/train_confs\n",
    "#hyper(\"hyper/AdaBoostClassifier_hyper.json\", [10])"
   ]
  },
  {
   "cell_type": "code",
   "execution_count": 14,
   "id": "5893d68b",
   "metadata": {
    "execution": {
     "iopub.execute_input": "2025-05-29T09:35:47.015864Z",
     "iopub.status.busy": "2025-05-29T09:35:47.015468Z",
     "iopub.status.idle": "2025-05-29T09:35:47.019918Z",
     "shell.execute_reply": "2025-05-29T09:35:47.018823Z"
    },
    "papermill": {
     "duration": 0.012009,
     "end_time": "2025-05-29T09:35:47.021685",
     "exception": false,
     "start_time": "2025-05-29T09:35:47.009676",
     "status": "completed"
    },
    "tags": []
   },
   "outputs": [],
   "source": [
    "#hyper(\"hyper/DecisionTreeClassifier_hyper.json\",[10])"
   ]
  },
  {
   "cell_type": "code",
   "execution_count": 15,
   "id": "81a4922f",
   "metadata": {
    "execution": {
     "iopub.execute_input": "2025-05-29T09:35:47.032114Z",
     "iopub.status.busy": "2025-05-29T09:35:47.031061Z",
     "iopub.status.idle": "2025-05-29T09:35:47.036636Z",
     "shell.execute_reply": "2025-05-29T09:35:47.035190Z"
    },
    "papermill": {
     "duration": 0.01258,
     "end_time": "2025-05-29T09:35:47.038480",
     "exception": false,
     "start_time": "2025-05-29T09:35:47.025900",
     "status": "completed"
    },
    "tags": []
   },
   "outputs": [],
   "source": [
    "#hyper(\"hyper/KNeighborsClassifier_hyper.json\", [10])"
   ]
  },
  {
   "cell_type": "code",
   "execution_count": 16,
   "id": "7a5eef48",
   "metadata": {
    "execution": {
     "iopub.execute_input": "2025-05-29T09:35:47.047976Z",
     "iopub.status.busy": "2025-05-29T09:35:47.047595Z",
     "iopub.status.idle": "2025-05-29T09:35:47.052699Z",
     "shell.execute_reply": "2025-05-29T09:35:47.051208Z"
    },
    "papermill": {
     "duration": 0.011983,
     "end_time": "2025-05-29T09:35:47.054615",
     "exception": false,
     "start_time": "2025-05-29T09:35:47.042632",
     "status": "completed"
    },
    "tags": []
   },
   "outputs": [],
   "source": [
    "#hyper(\"hyper/LogisticRegression_hyper.json\", [10])"
   ]
  },
  {
   "cell_type": "code",
   "execution_count": 17,
   "id": "2e500683",
   "metadata": {
    "execution": {
     "iopub.execute_input": "2025-05-29T09:35:47.064824Z",
     "iopub.status.busy": "2025-05-29T09:35:47.064475Z",
     "iopub.status.idle": "2025-05-29T09:35:47.069227Z",
     "shell.execute_reply": "2025-05-29T09:35:47.068272Z"
    },
    "papermill": {
     "duration": 0.01213,
     "end_time": "2025-05-29T09:35:47.071103",
     "exception": false,
     "start_time": "2025-05-29T09:35:47.058973",
     "status": "completed"
    },
    "tags": []
   },
   "outputs": [],
   "source": [
    "#hyper(\"hyper/SGDClassifier_hyper.json\", [10])"
   ]
  },
  {
   "cell_type": "code",
   "execution_count": 18,
   "id": "650df50f",
   "metadata": {
    "execution": {
     "iopub.execute_input": "2025-05-29T09:35:47.081298Z",
     "iopub.status.busy": "2025-05-29T09:35:47.080878Z",
     "iopub.status.idle": "2025-05-29T09:35:47.085628Z",
     "shell.execute_reply": "2025-05-29T09:35:47.084411Z"
    },
    "papermill": {
     "duration": 0.01173,
     "end_time": "2025-05-29T09:35:47.087693",
     "exception": false,
     "start_time": "2025-05-29T09:35:47.075963",
     "status": "completed"
    },
    "tags": []
   },
   "outputs": [],
   "source": [
    "#hyper(\"hyper/RidgeClassifier_hyper.json\", [10])"
   ]
  },
  {
   "cell_type": "code",
   "execution_count": 19,
   "id": "14bde04c",
   "metadata": {
    "execution": {
     "iopub.execute_input": "2025-05-29T09:35:47.097582Z",
     "iopub.status.busy": "2025-05-29T09:35:47.097242Z",
     "iopub.status.idle": "2025-05-29T15:16:13.108232Z",
     "shell.execute_reply": "2025-05-29T15:16:13.106778Z"
    },
    "papermill": {
     "duration": 20426.018791,
     "end_time": "2025-05-29T15:16:13.110738",
     "exception": false,
     "start_time": "2025-05-29T09:35:47.091947",
     "status": "completed"
    },
    "tags": []
   },
   "outputs": [
    {
     "name": "stdout",
     "output_type": "stream",
     "text": [
      "Runninng config MLPClassifier_cv on dataset chara_3x3\n"
     ]
    },
    {
     "name": "stderr",
     "output_type": "stream",
     "text": [
      "/usr/local/lib/python3.11/dist-packages/sklearn/model_selection/_search.py:305: UserWarning: The total space of parameters 8 is smaller than n_iter=10. Running 8 iterations. For exhaustive searches, use GridSearchCV.\n",
      "  warnings.warn(\n"
     ]
    },
    {
     "name": "stdout",
     "output_type": "stream",
     "text": [
      "Runninng config MLPClassifier_cv on dataset chara_4x4\n"
     ]
    },
    {
     "name": "stderr",
     "output_type": "stream",
     "text": [
      "/usr/local/lib/python3.11/dist-packages/sklearn/model_selection/_search.py:305: UserWarning: The total space of parameters 8 is smaller than n_iter=10. Running 8 iterations. For exhaustive searches, use GridSearchCV.\n",
      "  warnings.warn(\n"
     ]
    },
    {
     "name": "stdout",
     "output_type": "stream",
     "text": [
      "Runninng config MLPClassifier_cv on dataset chara_5x5\n"
     ]
    },
    {
     "name": "stderr",
     "output_type": "stream",
     "text": [
      "/usr/local/lib/python3.11/dist-packages/sklearn/model_selection/_search.py:305: UserWarning: The total space of parameters 8 is smaller than n_iter=10. Running 8 iterations. For exhaustive searches, use GridSearchCV.\n",
      "  warnings.warn(\n"
     ]
    },
    {
     "name": "stdout",
     "output_type": "stream",
     "text": [
      "Runninng config MLPClassifier_cv on dataset chara_6x6\n"
     ]
    },
    {
     "name": "stderr",
     "output_type": "stream",
     "text": [
      "/usr/local/lib/python3.11/dist-packages/sklearn/model_selection/_search.py:305: UserWarning: The total space of parameters 8 is smaller than n_iter=10. Running 8 iterations. For exhaustive searches, use GridSearchCV.\n",
      "  warnings.warn(\n"
     ]
    },
    {
     "name": "stdout",
     "output_type": "stream",
     "text": [
      "Runninng config MLPClassifier_cv on dataset chara_10x10\n"
     ]
    },
    {
     "name": "stderr",
     "output_type": "stream",
     "text": [
      "/usr/local/lib/python3.11/dist-packages/sklearn/model_selection/_search.py:305: UserWarning: The total space of parameters 8 is smaller than n_iter=10. Running 8 iterations. For exhaustive searches, use GridSearchCV.\n",
      "  warnings.warn(\n"
     ]
    }
   ],
   "source": [
    "hyper(\"cv/MLPClassifier_cv.json\")"
   ]
  },
  {
   "cell_type": "code",
   "execution_count": 20,
   "id": "0a984605",
   "metadata": {
    "execution": {
     "iopub.execute_input": "2025-05-29T15:16:13.123862Z",
     "iopub.status.busy": "2025-05-29T15:16:13.123483Z",
     "iopub.status.idle": "2025-05-29T15:16:13.128018Z",
     "shell.execute_reply": "2025-05-29T15:16:13.127194Z"
    },
    "papermill": {
     "duration": 0.013238,
     "end_time": "2025-05-29T15:16:13.129673",
     "exception": false,
     "start_time": "2025-05-29T15:16:13.116435",
     "status": "completed"
    },
    "tags": []
   },
   "outputs": [],
   "source": [
    "#hyper(\"/kaggle/working/hyper/GradientBoostingClassifier_hyper.json\")"
   ]
  },
  {
   "cell_type": "code",
   "execution_count": 21,
   "id": "a541b04f",
   "metadata": {
    "execution": {
     "iopub.execute_input": "2025-05-29T15:16:13.140586Z",
     "iopub.status.busy": "2025-05-29T15:16:13.140218Z",
     "iopub.status.idle": "2025-05-29T15:16:13.144737Z",
     "shell.execute_reply": "2025-05-29T15:16:13.143680Z"
    },
    "papermill": {
     "duration": 0.0119,
     "end_time": "2025-05-29T15:16:13.146370",
     "exception": false,
     "start_time": "2025-05-29T15:16:13.134470",
     "status": "completed"
    },
    "tags": []
   },
   "outputs": [],
   "source": [
    "#hyper(\"/kaggle/working/hyper/RandomForestClassifier_hyper.json\")"
   ]
  },
  {
   "cell_type": "code",
   "execution_count": 22,
   "id": "2dd34bf7",
   "metadata": {
    "execution": {
     "iopub.execute_input": "2025-05-29T15:16:13.157743Z",
     "iopub.status.busy": "2025-05-29T15:16:13.157420Z",
     "iopub.status.idle": "2025-05-29T15:16:13.161911Z",
     "shell.execute_reply": "2025-05-29T15:16:13.160822Z"
    },
    "papermill": {
     "duration": 0.012126,
     "end_time": "2025-05-29T15:16:13.163663",
     "exception": false,
     "start_time": "2025-05-29T15:16:13.151537",
     "status": "completed"
    },
    "tags": []
   },
   "outputs": [],
   "source": [
    "#hyper(\"/kaggle/working/hyper/HistGradientBoostingClassifier_hyper.json\")"
   ]
  }
 ],
 "metadata": {
  "colab": {
   "provenance": []
  },
  "kaggle": {
   "accelerator": "none",
   "dataSources": [
    {
     "datasetId": 7505141,
     "sourceId": 11992428,
     "sourceType": "datasetVersion"
    }
   ],
   "dockerImageVersionId": 31040,
   "isGpuEnabled": false,
   "isInternetEnabled": false,
   "language": "python",
   "sourceType": "notebook"
  },
  "kernelspec": {
   "display_name": "Python 3",
   "language": "python",
   "name": "python3"
  },
  "language_info": {
   "codemirror_mode": {
    "name": "ipython",
    "version": 3
   },
   "file_extension": ".py",
   "mimetype": "text/x-python",
   "name": "python",
   "nbconvert_exporter": "python",
   "pygments_lexer": "ipython3",
   "version": "3.11.11"
  },
  "papermill": {
   "default_parameters": {},
   "duration": 20438.919752,
   "end_time": "2025-05-29T15:16:15.816834",
   "environment_variables": {},
   "exception": null,
   "input_path": "__notebook__.ipynb",
   "output_path": "__notebook__.ipynb",
   "parameters": {},
   "start_time": "2025-05-29T09:35:36.897082",
   "version": "2.6.0"
  }
 },
 "nbformat": 4,
 "nbformat_minor": 5
}

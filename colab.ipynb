{
 "cells": [
  {
   "cell_type": "code",
   "execution_count": 1,
   "id": "7fc3db21",
   "metadata": {
    "execution": {
     "iopub.execute_input": "2025-05-28T06:28:24.594085Z",
     "iopub.status.busy": "2025-05-28T06:28:24.593781Z",
     "iopub.status.idle": "2025-05-28T06:28:26.638252Z",
     "shell.execute_reply": "2025-05-28T06:28:26.637442Z"
    },
    "id": "vjUPsXpv7Agr",
    "papermill": {
     "duration": 2.051361,
     "end_time": "2025-05-28T06:28:26.639971",
     "exception": false,
     "start_time": "2025-05-28T06:28:24.588610",
     "status": "completed"
    },
    "tags": []
   },
   "outputs": [
    {
     "name": "stdout",
     "output_type": "stream",
     "text": [
      "/kaggle/input/github\n"
     ]
    }
   ],
   "source": [
    "%cd /kaggle/input/github\n",
    "!mkdir -p /kaggle/working/results\n",
    "from pathlib import Path\n",
    "import train as tr\n",
    "import os\n",
    "\n",
    "res_dir = '/kaggle/working/results'\n",
    "\n",
    "def cv(conf, c_file = \"characteristics/chara_2x2.csv\"):\n",
    "    \n",
    "    conf_path = Path(conf)\n",
    "    c_path = Path(c_file)\n",
    "    print(f\"Runninng config {conf_path.stem} on dataset {c_path.stem}\")\n",
    "    res_path = f\"{res_dir}/{conf_path.stem}-{c_path.stem}.json\"\n",
    "    tr.train(res_path, conf, c_file, False)"
   ]
  },
  {
   "cell_type": "code",
   "execution_count": 2,
   "id": "e6dbb4ad",
   "metadata": {
    "execution": {
     "iopub.execute_input": "2025-05-28T06:28:26.649115Z",
     "iopub.status.busy": "2025-05-28T06:28:26.648213Z",
     "iopub.status.idle": "2025-05-28T06:28:26.652356Z",
     "shell.execute_reply": "2025-05-28T06:28:26.651637Z"
    },
    "papermill": {
     "duration": 0.009941,
     "end_time": "2025-05-28T06:28:26.653733",
     "exception": false,
     "start_time": "2025-05-28T06:28:26.643792",
     "status": "completed"
    },
    "tags": []
   },
   "outputs": [],
   "source": [
    "#cv(\"/kaggle/input/github/train_confs/cv/AdaBoostClassifier_cv.json\")"
   ]
  },
  {
   "cell_type": "code",
   "execution_count": 3,
   "id": "d311eac1",
   "metadata": {
    "execution": {
     "iopub.execute_input": "2025-05-28T06:28:26.661897Z",
     "iopub.status.busy": "2025-05-28T06:28:26.661280Z",
     "iopub.status.idle": "2025-05-28T06:28:26.664982Z",
     "shell.execute_reply": "2025-05-28T06:28:26.664220Z"
    },
    "papermill": {
     "duration": 0.00894,
     "end_time": "2025-05-28T06:28:26.666223",
     "exception": false,
     "start_time": "2025-05-28T06:28:26.657283",
     "status": "completed"
    },
    "tags": []
   },
   "outputs": [],
   "source": [
    "#cv(\"/kaggle/input/github/train_confs/cv/DecisionTreeClassifier_cv.json\")"
   ]
  },
  {
   "cell_type": "code",
   "execution_count": 4,
   "id": "05d66bae",
   "metadata": {
    "execution": {
     "iopub.execute_input": "2025-05-28T06:28:26.674565Z",
     "iopub.status.busy": "2025-05-28T06:28:26.673778Z",
     "iopub.status.idle": "2025-05-28T06:28:26.677780Z",
     "shell.execute_reply": "2025-05-28T06:28:26.676972Z"
    },
    "papermill": {
     "duration": 0.009395,
     "end_time": "2025-05-28T06:28:26.679063",
     "exception": false,
     "start_time": "2025-05-28T06:28:26.669668",
     "status": "completed"
    },
    "tags": []
   },
   "outputs": [],
   "source": [
    "#cv(\"/kaggle/input/github/train_confs/cv/KNeighborsClassifier_cv.json\")"
   ]
  },
  {
   "cell_type": "code",
   "execution_count": 5,
   "id": "e3756a95",
   "metadata": {
    "execution": {
     "iopub.execute_input": "2025-05-28T06:28:26.687352Z",
     "iopub.status.busy": "2025-05-28T06:28:26.686759Z",
     "iopub.status.idle": "2025-05-28T06:28:26.690144Z",
     "shell.execute_reply": "2025-05-28T06:28:26.689557Z"
    },
    "papermill": {
     "duration": 0.008609,
     "end_time": "2025-05-28T06:28:26.691316",
     "exception": false,
     "start_time": "2025-05-28T06:28:26.682707",
     "status": "completed"
    },
    "tags": []
   },
   "outputs": [],
   "source": [
    "#cv(\"/kaggle/input/github/train_confs/cv/LogisticRegression_cv.json\")"
   ]
  },
  {
   "cell_type": "code",
   "execution_count": 6,
   "id": "3c155f37",
   "metadata": {
    "execution": {
     "iopub.execute_input": "2025-05-28T06:28:26.699194Z",
     "iopub.status.busy": "2025-05-28T06:28:26.698587Z",
     "iopub.status.idle": "2025-05-28T06:28:26.701824Z",
     "shell.execute_reply": "2025-05-28T06:28:26.701245Z"
    },
    "papermill": {
     "duration": 0.008334,
     "end_time": "2025-05-28T06:28:26.703064",
     "exception": false,
     "start_time": "2025-05-28T06:28:26.694730",
     "status": "completed"
    },
    "tags": []
   },
   "outputs": [],
   "source": [
    "#cv(\"/kaggle/input/github/train_confs/cv/SGDClassifier_cv.json\")"
   ]
  },
  {
   "cell_type": "code",
   "execution_count": 7,
   "id": "57856319",
   "metadata": {
    "execution": {
     "iopub.execute_input": "2025-05-28T06:28:26.710969Z",
     "iopub.status.busy": "2025-05-28T06:28:26.710406Z",
     "iopub.status.idle": "2025-05-28T06:28:26.713977Z",
     "shell.execute_reply": "2025-05-28T06:28:26.713229Z"
    },
    "papermill": {
     "duration": 0.008722,
     "end_time": "2025-05-28T06:28:26.715254",
     "exception": false,
     "start_time": "2025-05-28T06:28:26.706532",
     "status": "completed"
    },
    "tags": []
   },
   "outputs": [],
   "source": [
    "#cv(\"/kaggle/input/github/train_confs/cv/RidgeClassifier_cv.json\")"
   ]
  },
  {
   "cell_type": "code",
   "execution_count": 8,
   "id": "e521e3f5",
   "metadata": {
    "execution": {
     "iopub.execute_input": "2025-05-28T06:28:26.723073Z",
     "iopub.status.busy": "2025-05-28T06:28:26.722583Z",
     "iopub.status.idle": "2025-05-28T06:28:26.726073Z",
     "shell.execute_reply": "2025-05-28T06:28:26.725339Z"
    },
    "papermill": {
     "duration": 0.008685,
     "end_time": "2025-05-28T06:28:26.727370",
     "exception": false,
     "start_time": "2025-05-28T06:28:26.718685",
     "status": "completed"
    },
    "tags": []
   },
   "outputs": [],
   "source": [
    "#cv(\"/kaggle/input/github/train_confs/cv/MLPClassifier_cv.json\")"
   ]
  },
  {
   "cell_type": "code",
   "execution_count": 9,
   "id": "23a21a5c",
   "metadata": {
    "execution": {
     "iopub.execute_input": "2025-05-28T06:28:26.735541Z",
     "iopub.status.busy": "2025-05-28T06:28:26.734781Z",
     "iopub.status.idle": "2025-05-28T06:28:26.738365Z",
     "shell.execute_reply": "2025-05-28T06:28:26.737646Z"
    },
    "papermill": {
     "duration": 0.008802,
     "end_time": "2025-05-28T06:28:26.739656",
     "exception": false,
     "start_time": "2025-05-28T06:28:26.730854",
     "status": "completed"
    },
    "tags": []
   },
   "outputs": [],
   "source": [
    "#cv(\"/kaggle/input/github/train_confs/cv/GradientBoostingClassifier_cv.json\")"
   ]
  },
  {
   "cell_type": "markdown",
   "id": "ffdacc60",
   "metadata": {
    "papermill": {
     "duration": 0.00323,
     "end_time": "2025-05-28T06:28:26.746305",
     "exception": false,
     "start_time": "2025-05-28T06:28:26.743075",
     "status": "completed"
    },
    "tags": []
   },
   "source": []
  },
  {
   "cell_type": "code",
   "execution_count": 10,
   "id": "2e65fe3d",
   "metadata": {
    "execution": {
     "iopub.execute_input": "2025-05-28T06:28:26.754274Z",
     "iopub.status.busy": "2025-05-28T06:28:26.753646Z",
     "iopub.status.idle": "2025-05-28T06:28:26.757277Z",
     "shell.execute_reply": "2025-05-28T06:28:26.756533Z"
    },
    "papermill": {
     "duration": 0.008845,
     "end_time": "2025-05-28T06:28:26.758467",
     "exception": false,
     "start_time": "2025-05-28T06:28:26.749622",
     "status": "completed"
    },
    "tags": []
   },
   "outputs": [],
   "source": [
    "#cv(\"/kaggle/input/github/train_confs/cv/HistGradientBoostingClassifier_cv.json\")"
   ]
  },
  {
   "cell_type": "code",
   "execution_count": 11,
   "id": "2dfabdc9",
   "metadata": {
    "execution": {
     "iopub.execute_input": "2025-05-28T06:28:26.766653Z",
     "iopub.status.busy": "2025-05-28T06:28:26.765980Z",
     "iopub.status.idle": "2025-05-28T06:28:26.769537Z",
     "shell.execute_reply": "2025-05-28T06:28:26.768789Z"
    },
    "papermill": {
     "duration": 0.008913,
     "end_time": "2025-05-28T06:28:26.770833",
     "exception": false,
     "start_time": "2025-05-28T06:28:26.761920",
     "status": "completed"
    },
    "tags": []
   },
   "outputs": [],
   "source": [
    "#cv(\"/kaggle/input/github/train_confs/cv/RandomForestClassifier_cv.json\")"
   ]
  },
  {
   "cell_type": "code",
   "execution_count": 12,
   "id": "b3fc0592",
   "metadata": {
    "execution": {
     "iopub.execute_input": "2025-05-28T06:28:26.778839Z",
     "iopub.status.busy": "2025-05-28T06:28:26.778602Z",
     "iopub.status.idle": "2025-05-28T06:28:26.947331Z",
     "shell.execute_reply": "2025-05-28T06:28:26.946390Z"
    },
    "id": "Mp21piljq7YC",
    "papermill": {
     "duration": 0.174802,
     "end_time": "2025-05-28T06:28:26.949068",
     "exception": false,
     "start_time": "2025-05-28T06:28:26.774266",
     "status": "completed"
    },
    "tags": []
   },
   "outputs": [
    {
     "name": "stdout",
     "output_type": "stream",
     "text": [
      "/kaggle/input/github\n"
     ]
    }
   ],
   "source": [
    "%cd /kaggle/input/github/\n",
    "!mkdir -p /kaggle/working/hyper\n",
    "\n",
    "# generate known result configs\n",
    "import os\n",
    "import json\n",
    "\n",
    "\n",
    "for f in os.scandir('/kaggle/input/github/results'):\n",
    "  name = f.name.split(\"_\")[0]\n",
    "  j = json.load(open(f, 'rt'))\n",
    "  d = {\n",
    "      \"model\": name,\n",
    "      \"hyper\": j['hyperparams'],\n",
    "  }\n",
    "  with open(f\"/kaggle/working/hyper/{name}_hyper.json\", 'w') as f:\n",
    "    json.dump(d, f)\n",
    "\n",
    "def hyper(conf):\n",
    "    for ds in os.scandir(\"characteristics\"):\n",
    "        if ds.name == 'chara_2x2.csv':\n",
    "            continue\n",
    "        cv(conf, ds.path)\n",
    "\n"
   ]
  },
  {
   "cell_type": "code",
   "execution_count": 13,
   "id": "0546d24f",
   "metadata": {
    "execution": {
     "iopub.execute_input": "2025-05-28T06:28:26.958299Z",
     "iopub.status.busy": "2025-05-28T06:28:26.957640Z",
     "iopub.status.idle": "2025-05-28T06:33:26.954071Z",
     "shell.execute_reply": "2025-05-28T06:33:26.953258Z"
    },
    "papermill": {
     "duration": 300.002993,
     "end_time": "2025-05-28T06:33:26.955902",
     "exception": false,
     "start_time": "2025-05-28T06:28:26.952909",
     "status": "completed"
    },
    "tags": []
   },
   "outputs": [
    {
     "name": "stdout",
     "output_type": "stream",
     "text": [
      "Runninng config AdaBoostClassifier_hyper on dataset chara_5x5\n",
      "Runninng config AdaBoostClassifier_hyper on dataset chara_3x3\n",
      "Runninng config AdaBoostClassifier_hyper on dataset chara_4x4\n",
      "Runninng config AdaBoostClassifier_hyper on dataset chara_6x6\n"
     ]
    }
   ],
   "source": [
    "hyper(\"/kaggle/working/hyper/AdaBoostClassifier_hyper.json\")"
   ]
  },
  {
   "cell_type": "code",
   "execution_count": 14,
   "id": "ac859b08",
   "metadata": {
    "execution": {
     "iopub.execute_input": "2025-05-28T06:33:26.965950Z",
     "iopub.status.busy": "2025-05-28T06:33:26.965249Z",
     "iopub.status.idle": "2025-05-28T06:34:53.148787Z",
     "shell.execute_reply": "2025-05-28T06:34:53.147962Z"
    },
    "papermill": {
     "duration": 86.189858,
     "end_time": "2025-05-28T06:34:53.150314",
     "exception": false,
     "start_time": "2025-05-28T06:33:26.960456",
     "status": "completed"
    },
    "tags": []
   },
   "outputs": [
    {
     "name": "stdout",
     "output_type": "stream",
     "text": [
      "Runninng config DecisionTreeClassifier_hyper on dataset chara_5x5\n",
      "Runninng config DecisionTreeClassifier_hyper on dataset chara_3x3\n"
     ]
    },
    {
     "name": "stderr",
     "output_type": "stream",
     "text": [
      "/usr/local/lib/python3.11/dist-packages/sklearn/metrics/_classification.py:1344: UndefinedMetricWarning: Precision and F-score are ill-defined and being set to 0.0 in labels with no predicted samples. Use `zero_division` parameter to control this behavior.\n",
      "  _warn_prf(average, modifier, msg_start, len(result))\n",
      "/usr/local/lib/python3.11/dist-packages/sklearn/metrics/_classification.py:1344: UndefinedMetricWarning: Precision and F-score are ill-defined and being set to 0.0 in labels with no predicted samples. Use `zero_division` parameter to control this behavior.\n",
      "  _warn_prf(average, modifier, msg_start, len(result))\n",
      "/usr/local/lib/python3.11/dist-packages/sklearn/metrics/_classification.py:1344: UndefinedMetricWarning: Precision and F-score are ill-defined and being set to 0.0 in labels with no predicted samples. Use `zero_division` parameter to control this behavior.\n",
      "  _warn_prf(average, modifier, msg_start, len(result))\n"
     ]
    },
    {
     "name": "stdout",
     "output_type": "stream",
     "text": [
      "Runninng config DecisionTreeClassifier_hyper on dataset chara_4x4\n",
      "Runninng config DecisionTreeClassifier_hyper on dataset chara_6x6\n"
     ]
    }
   ],
   "source": [
    "hyper(\"/kaggle/working/hyper/DecisionTreeClassifier_hyper.json\")"
   ]
  },
  {
   "cell_type": "code",
   "execution_count": 15,
   "id": "c93cbc66",
   "metadata": {
    "execution": {
     "iopub.execute_input": "2025-05-28T06:34:53.160513Z",
     "iopub.status.busy": "2025-05-28T06:34:53.160145Z",
     "iopub.status.idle": "2025-05-28T06:34:53.163904Z",
     "shell.execute_reply": "2025-05-28T06:34:53.163273Z"
    },
    "papermill": {
     "duration": 0.010443,
     "end_time": "2025-05-28T06:34:53.165243",
     "exception": false,
     "start_time": "2025-05-28T06:34:53.154800",
     "status": "completed"
    },
    "tags": []
   },
   "outputs": [],
   "source": [
    "#hyper(\"/kaggle/working/hyper/GradientBoostingClassifier_hyper.json\")"
   ]
  },
  {
   "cell_type": "code",
   "execution_count": 16,
   "id": "3125c5db",
   "metadata": {
    "execution": {
     "iopub.execute_input": "2025-05-28T06:34:53.175257Z",
     "iopub.status.busy": "2025-05-28T06:34:53.174537Z",
     "iopub.status.idle": "2025-05-28T06:38:03.540437Z",
     "shell.execute_reply": "2025-05-28T06:38:03.539691Z"
    },
    "papermill": {
     "duration": 190.372704,
     "end_time": "2025-05-28T06:38:03.542529",
     "exception": false,
     "start_time": "2025-05-28T06:34:53.169825",
     "status": "completed"
    },
    "tags": []
   },
   "outputs": [
    {
     "name": "stdout",
     "output_type": "stream",
     "text": [
      "Runninng config KNeighborsClassifier_hyper on dataset chara_5x5\n",
      "Runninng config KNeighborsClassifier_hyper on dataset chara_3x3\n",
      "Runninng config KNeighborsClassifier_hyper on dataset chara_4x4\n",
      "Runninng config KNeighborsClassifier_hyper on dataset chara_6x6\n"
     ]
    }
   ],
   "source": [
    "hyper(\"/kaggle/working/hyper/KNeighborsClassifier_hyper.json\")"
   ]
  },
  {
   "cell_type": "code",
   "execution_count": 17,
   "id": "cbec0480",
   "metadata": {
    "execution": {
     "iopub.execute_input": "2025-05-28T06:38:03.553638Z",
     "iopub.status.busy": "2025-05-28T06:38:03.552891Z",
     "iopub.status.idle": "2025-05-28T06:44:51.493549Z",
     "shell.execute_reply": "2025-05-28T06:44:51.492560Z"
    },
    "papermill": {
     "duration": 407.947713,
     "end_time": "2025-05-28T06:44:51.495351",
     "exception": false,
     "start_time": "2025-05-28T06:38:03.547638",
     "status": "completed"
    },
    "tags": []
   },
   "outputs": [
    {
     "name": "stdout",
     "output_type": "stream",
     "text": [
      "Runninng config LogisticRegression_hyper on dataset chara_5x5\n",
      "Runninng config LogisticRegression_hyper on dataset chara_3x3\n",
      "Runninng config LogisticRegression_hyper on dataset chara_4x4\n",
      "Runninng config LogisticRegression_hyper on dataset chara_6x6\n"
     ]
    }
   ],
   "source": [
    "hyper(\"/kaggle/working/hyper/LogisticRegression_hyper.json\")"
   ]
  },
  {
   "cell_type": "code",
   "execution_count": 18,
   "id": "2e52c98d",
   "metadata": {
    "execution": {
     "iopub.execute_input": "2025-05-28T06:44:51.507261Z",
     "iopub.status.busy": "2025-05-28T06:44:51.506580Z",
     "iopub.status.idle": "2025-05-28T07:06:46.906916Z",
     "shell.execute_reply": "2025-05-28T07:06:46.905930Z"
    },
    "papermill": {
     "duration": 1315.408223,
     "end_time": "2025-05-28T07:06:46.908877",
     "exception": false,
     "start_time": "2025-05-28T06:44:51.500654",
     "status": "completed"
    },
    "tags": []
   },
   "outputs": [
    {
     "name": "stdout",
     "output_type": "stream",
     "text": [
      "Runninng config SGDClassifier_hyper on dataset chara_5x5\n",
      "Runninng config SGDClassifier_hyper on dataset chara_3x3\n"
     ]
    },
    {
     "name": "stderr",
     "output_type": "stream",
     "text": [
      "/usr/local/lib/python3.11/dist-packages/sklearn/metrics/_classification.py:1344: UndefinedMetricWarning: Precision and F-score are ill-defined and being set to 0.0 in labels with no predicted samples. Use `zero_division` parameter to control this behavior.\n",
      "  _warn_prf(average, modifier, msg_start, len(result))\n",
      "/usr/local/lib/python3.11/dist-packages/sklearn/metrics/_classification.py:1344: UndefinedMetricWarning: Precision and F-score are ill-defined and being set to 0.0 in labels with no predicted samples. Use `zero_division` parameter to control this behavior.\n",
      "  _warn_prf(average, modifier, msg_start, len(result))\n",
      "/usr/local/lib/python3.11/dist-packages/sklearn/metrics/_classification.py:1344: UndefinedMetricWarning: Precision and F-score are ill-defined and being set to 0.0 in labels with no predicted samples. Use `zero_division` parameter to control this behavior.\n",
      "  _warn_prf(average, modifier, msg_start, len(result))\n"
     ]
    },
    {
     "name": "stdout",
     "output_type": "stream",
     "text": [
      "Runninng config SGDClassifier_hyper on dataset chara_4x4\n"
     ]
    },
    {
     "name": "stderr",
     "output_type": "stream",
     "text": [
      "/usr/local/lib/python3.11/dist-packages/sklearn/metrics/_classification.py:1344: UndefinedMetricWarning: Precision and F-score are ill-defined and being set to 0.0 in labels with no predicted samples. Use `zero_division` parameter to control this behavior.\n",
      "  _warn_prf(average, modifier, msg_start, len(result))\n",
      "/usr/local/lib/python3.11/dist-packages/sklearn/metrics/_classification.py:1344: UndefinedMetricWarning: Precision and F-score are ill-defined and being set to 0.0 in labels with no predicted samples. Use `zero_division` parameter to control this behavior.\n",
      "  _warn_prf(average, modifier, msg_start, len(result))\n",
      "/usr/local/lib/python3.11/dist-packages/sklearn/metrics/_classification.py:1344: UndefinedMetricWarning: Precision and F-score are ill-defined and being set to 0.0 in labels with no predicted samples. Use `zero_division` parameter to control this behavior.\n",
      "  _warn_prf(average, modifier, msg_start, len(result))\n"
     ]
    },
    {
     "name": "stdout",
     "output_type": "stream",
     "text": [
      "Runninng config SGDClassifier_hyper on dataset chara_6x6\n"
     ]
    }
   ],
   "source": [
    "hyper(\"/kaggle/working/hyper/SGDClassifier_hyper.json\")"
   ]
  },
  {
   "cell_type": "code",
   "execution_count": 19,
   "id": "5e636c65",
   "metadata": {
    "execution": {
     "iopub.execute_input": "2025-05-28T07:06:46.988255Z",
     "iopub.status.busy": "2025-05-28T07:06:46.987590Z",
     "iopub.status.idle": "2025-05-28T07:07:21.338688Z",
     "shell.execute_reply": "2025-05-28T07:07:21.337683Z"
    },
    "papermill": {
     "duration": 34.430036,
     "end_time": "2025-05-28T07:07:21.344586",
     "exception": false,
     "start_time": "2025-05-28T07:06:46.914550",
     "status": "completed"
    },
    "tags": []
   },
   "outputs": [
    {
     "name": "stdout",
     "output_type": "stream",
     "text": [
      "Runninng config RidgeClassifier_hyper on dataset chara_5x5\n"
     ]
    },
    {
     "name": "stderr",
     "output_type": "stream",
     "text": [
      "/usr/local/lib/python3.11/dist-packages/sklearn/metrics/_classification.py:1344: UndefinedMetricWarning: Precision and F-score are ill-defined and being set to 0.0 in labels with no predicted samples. Use `zero_division` parameter to control this behavior.\n",
      "  _warn_prf(average, modifier, msg_start, len(result))\n",
      "/usr/local/lib/python3.11/dist-packages/sklearn/metrics/_classification.py:1344: UndefinedMetricWarning: Precision and F-score are ill-defined and being set to 0.0 in labels with no predicted samples. Use `zero_division` parameter to control this behavior.\n",
      "  _warn_prf(average, modifier, msg_start, len(result))\n",
      "/usr/local/lib/python3.11/dist-packages/sklearn/metrics/_classification.py:1344: UndefinedMetricWarning: Precision and F-score are ill-defined and being set to 0.0 in labels with no predicted samples. Use `zero_division` parameter to control this behavior.\n",
      "  _warn_prf(average, modifier, msg_start, len(result))\n"
     ]
    },
    {
     "name": "stdout",
     "output_type": "stream",
     "text": [
      "Runninng config RidgeClassifier_hyper on dataset chara_3x3\n"
     ]
    },
    {
     "name": "stderr",
     "output_type": "stream",
     "text": [
      "/usr/local/lib/python3.11/dist-packages/sklearn/metrics/_classification.py:1344: UndefinedMetricWarning: Precision and F-score are ill-defined and being set to 0.0 in labels with no predicted samples. Use `zero_division` parameter to control this behavior.\n",
      "  _warn_prf(average, modifier, msg_start, len(result))\n",
      "/usr/local/lib/python3.11/dist-packages/sklearn/metrics/_classification.py:1344: UndefinedMetricWarning: Precision and F-score are ill-defined and being set to 0.0 in labels with no predicted samples. Use `zero_division` parameter to control this behavior.\n",
      "  _warn_prf(average, modifier, msg_start, len(result))\n",
      "/usr/local/lib/python3.11/dist-packages/sklearn/metrics/_classification.py:1344: UndefinedMetricWarning: Precision and F-score are ill-defined and being set to 0.0 in labels with no predicted samples. Use `zero_division` parameter to control this behavior.\n",
      "  _warn_prf(average, modifier, msg_start, len(result))\n"
     ]
    },
    {
     "name": "stdout",
     "output_type": "stream",
     "text": [
      "Runninng config RidgeClassifier_hyper on dataset chara_4x4\n"
     ]
    },
    {
     "name": "stderr",
     "output_type": "stream",
     "text": [
      "/usr/local/lib/python3.11/dist-packages/sklearn/metrics/_classification.py:1344: UndefinedMetricWarning: Precision and F-score are ill-defined and being set to 0.0 in labels with no predicted samples. Use `zero_division` parameter to control this behavior.\n",
      "  _warn_prf(average, modifier, msg_start, len(result))\n",
      "/usr/local/lib/python3.11/dist-packages/sklearn/metrics/_classification.py:1344: UndefinedMetricWarning: Precision and F-score are ill-defined and being set to 0.0 in labels with no predicted samples. Use `zero_division` parameter to control this behavior.\n",
      "  _warn_prf(average, modifier, msg_start, len(result))\n",
      "/usr/local/lib/python3.11/dist-packages/sklearn/metrics/_classification.py:1344: UndefinedMetricWarning: Precision and F-score are ill-defined and being set to 0.0 in labels with no predicted samples. Use `zero_division` parameter to control this behavior.\n",
      "  _warn_prf(average, modifier, msg_start, len(result))\n"
     ]
    },
    {
     "name": "stdout",
     "output_type": "stream",
     "text": [
      "Runninng config RidgeClassifier_hyper on dataset chara_6x6\n"
     ]
    },
    {
     "name": "stderr",
     "output_type": "stream",
     "text": [
      "/usr/local/lib/python3.11/dist-packages/sklearn/metrics/_classification.py:1344: UndefinedMetricWarning: Precision and F-score are ill-defined and being set to 0.0 in labels with no predicted samples. Use `zero_division` parameter to control this behavior.\n",
      "  _warn_prf(average, modifier, msg_start, len(result))\n",
      "/usr/local/lib/python3.11/dist-packages/sklearn/metrics/_classification.py:1344: UndefinedMetricWarning: Precision and F-score are ill-defined and being set to 0.0 in labels with no predicted samples. Use `zero_division` parameter to control this behavior.\n",
      "  _warn_prf(average, modifier, msg_start, len(result))\n",
      "/usr/local/lib/python3.11/dist-packages/sklearn/metrics/_classification.py:1344: UndefinedMetricWarning: Precision and F-score are ill-defined and being set to 0.0 in labels with no predicted samples. Use `zero_division` parameter to control this behavior.\n",
      "  _warn_prf(average, modifier, msg_start, len(result))\n"
     ]
    }
   ],
   "source": [
    "hyper(\"/kaggle/working/hyper/RidgeClassifier_hyper.json\")"
   ]
  },
  {
   "cell_type": "code",
   "execution_count": 20,
   "id": "b0381314",
   "metadata": {
    "execution": {
     "iopub.execute_input": "2025-05-28T07:07:21.357458Z",
     "iopub.status.busy": "2025-05-28T07:07:21.357171Z",
     "iopub.status.idle": "2025-05-28T07:07:21.361104Z",
     "shell.execute_reply": "2025-05-28T07:07:21.360380Z"
    },
    "papermill": {
     "duration": 0.012009,
     "end_time": "2025-05-28T07:07:21.362521",
     "exception": false,
     "start_time": "2025-05-28T07:07:21.350512",
     "status": "completed"
    },
    "tags": []
   },
   "outputs": [],
   "source": [
    "#hyper(\"/kaggle/working/hyper/RandomForestClassifier_hyper.json\")"
   ]
  },
  {
   "cell_type": "code",
   "execution_count": 21,
   "id": "0bf235be",
   "metadata": {
    "execution": {
     "iopub.execute_input": "2025-05-28T07:07:21.375520Z",
     "iopub.status.busy": "2025-05-28T07:07:21.374838Z",
     "iopub.status.idle": "2025-05-28T07:07:21.378786Z",
     "shell.execute_reply": "2025-05-28T07:07:21.378044Z"
    },
    "papermill": {
     "duration": 0.011652,
     "end_time": "2025-05-28T07:07:21.380018",
     "exception": false,
     "start_time": "2025-05-28T07:07:21.368366",
     "status": "completed"
    },
    "tags": []
   },
   "outputs": [],
   "source": [
    "#hyper(\"/kaggle/working/hyper/HistGradientBoostingClassifier_hyper.json\")"
   ]
  },
  {
   "cell_type": "code",
   "execution_count": 22,
   "id": "26c472f8",
   "metadata": {
    "execution": {
     "iopub.execute_input": "2025-05-28T07:07:21.392967Z",
     "iopub.status.busy": "2025-05-28T07:07:21.392240Z",
     "iopub.status.idle": "2025-05-28T07:07:21.396221Z",
     "shell.execute_reply": "2025-05-28T07:07:21.395518Z"
    },
    "papermill": {
     "duration": 0.011696,
     "end_time": "2025-05-28T07:07:21.397422",
     "exception": false,
     "start_time": "2025-05-28T07:07:21.385726",
     "status": "completed"
    },
    "tags": []
   },
   "outputs": [],
   "source": [
    "#hyper(\"/kaggle/working/hyper/MLPClassifier_hyper.json\")"
   ]
  }
 ],
 "metadata": {
  "colab": {
   "provenance": []
  },
  "kaggle": {
   "accelerator": "none",
   "dataSources": [
    {
     "datasetId": 7505141,
     "sourceId": 11979185,
     "sourceType": "datasetVersion"
    }
   ],
   "dockerImageVersionId": 31040,
   "isGpuEnabled": false,
   "isInternetEnabled": false,
   "language": "python",
   "sourceType": "notebook"
  },
  "kernelspec": {
   "display_name": "Python 3",
   "language": "python",
   "name": "python3"
  },
  "language_info": {
   "codemirror_mode": {
    "name": "ipython",
    "version": 3
   },
   "file_extension": ".py",
   "mimetype": "text/x-python",
   "name": "python",
   "nbconvert_exporter": "python",
   "pygments_lexer": "ipython3",
   "version": "3.11.11"
  },
  "papermill": {
   "default_parameters": {},
   "duration": 2342.156957,
   "end_time": "2025-05-28T07:07:22.025627",
   "environment_variables": {},
   "exception": null,
   "input_path": "__notebook__.ipynb",
   "output_path": "__notebook__.ipynb",
   "parameters": {},
   "start_time": "2025-05-28T06:28:19.868670",
   "version": "2.6.0"
  }
 },
 "nbformat": 4,
 "nbformat_minor": 5
}

{
 "cells": [
  {
   "cell_type": "code",
   "execution_count": 1,
   "id": "f9e55df5",
   "metadata": {
    "execution": {
     "iopub.execute_input": "2025-06-01T18:49:29.779510Z",
     "iopub.status.busy": "2025-06-01T18:49:29.779067Z",
     "iopub.status.idle": "2025-06-01T18:49:32.479738Z",
     "shell.execute_reply": "2025-06-01T18:49:32.478429Z"
    },
    "id": "vjUPsXpv7Agr",
    "papermill": {
     "duration": 2.706437,
     "end_time": "2025-06-01T18:49:32.481803",
     "exception": false,
     "start_time": "2025-06-01T18:49:29.775366",
     "status": "completed"
    },
    "tags": []
   },
   "outputs": [
    {
     "name": "stdout",
     "output_type": "stream",
     "text": [
      "/kaggle/input/github\n"
     ]
    }
   ],
   "source": [
    "%cd /kaggle/input/github\n",
    "!mkdir -p /kaggle/working/results\n",
    "from pathlib import Path\n",
    "import train as tr\n",
    "import os\n",
    "\n",
    "res_dir = '/kaggle/working/results'\n",
    "\n",
    "def cv(conf, c_file = \"characteristics/chara_2x2.csv\"):\n",
    "    \n",
    "    conf_path = Path(conf)\n",
    "    c_path = Path(c_file)\n",
    "    print(f\"Runninng config {conf_path.stem} on dataset {c_path.stem}\")\n",
    "    res_path = f\"{res_dir}/{conf_path.stem}-{c_path.stem}.json\"\n",
    "    tr.train(res_path, conf, c_file, False)"
   ]
  },
  {
   "cell_type": "code",
   "execution_count": 2,
   "id": "150481b7",
   "metadata": {
    "execution": {
     "iopub.execute_input": "2025-06-01T18:49:32.487440Z",
     "iopub.status.busy": "2025-06-01T18:49:32.487002Z",
     "iopub.status.idle": "2025-06-01T18:49:32.619059Z",
     "shell.execute_reply": "2025-06-01T18:49:32.617424Z"
    },
    "id": "Mp21piljq7YC",
    "papermill": {
     "duration": 0.137111,
     "end_time": "2025-06-01T18:49:32.621066",
     "exception": false,
     "start_time": "2025-06-01T18:49:32.483955",
     "status": "completed"
    },
    "tags": []
   },
   "outputs": [
    {
     "name": "stdout",
     "output_type": "stream",
     "text": [
      "/kaggle/input/github\n"
     ]
    }
   ],
   "source": [
    "%cd /kaggle/input/github/\n",
    "!mkdir -p /kaggle/working/hyper\n",
    "\n",
    "# generate known result configs\n",
    "import os\n",
    "import json\n",
    "\n",
    "\n",
    "# for f in os.scandir('/kaggle/input/github/results'):\n",
    "#   name = f.name.split(\"_\")[0]\n",
    "#   j = json.load(open(f, 'rt'))\n",
    "#   d = {\n",
    "#       \"model\": name,\n",
    "#       \"hyper\": j['hyperparams'],\n",
    "#   }\n",
    "#   with open(f\"/kaggle/working/hyper/{name}_hyper.json\", 'w') as f:\n",
    "#     json.dump(d, f)\n",
    "\n",
    "def hyper(conf, sizes=[3, 4, 5, 6, 10]):\n",
    "    for s in sizes:\n",
    "        chara_f = f\"/kaggle/input/github/characteristics/chara_{s}x{s}.csv\"\n",
    "        cv(conf, chara_f)\n",
    "\n"
   ]
  },
  {
   "cell_type": "code",
   "execution_count": 3,
   "id": "3b41c7e4",
   "metadata": {
    "execution": {
     "iopub.execute_input": "2025-06-01T18:49:32.626446Z",
     "iopub.status.busy": "2025-06-01T18:49:32.626081Z",
     "iopub.status.idle": "2025-06-01T19:13:48.565057Z",
     "shell.execute_reply": "2025-06-01T19:13:48.563618Z"
    },
    "papermill": {
     "duration": 1455.944198,
     "end_time": "2025-06-01T19:13:48.567228",
     "exception": false,
     "start_time": "2025-06-01T18:49:32.623030",
     "status": "completed"
    },
    "tags": []
   },
   "outputs": [
    {
     "name": "stdout",
     "output_type": "stream",
     "text": [
      "/kaggle/input/github/train_confs\n",
      "Runninng config DecisionTreeClassifier_cv on dataset chara_2x2\n"
     ]
    },
    {
     "name": "stderr",
     "output_type": "stream",
     "text": [
      "/usr/local/lib/python3.11/dist-packages/sklearn/metrics/_classification.py:1344: UndefinedMetricWarning: Precision and F-score are ill-defined and being set to 0.0 in labels with no predicted samples. Use `zero_division` parameter to control this behavior.\n",
      "  _warn_prf(average, modifier, msg_start, len(result))\n",
      "/usr/local/lib/python3.11/dist-packages/sklearn/metrics/_classification.py:1344: UndefinedMetricWarning: Precision and F-score are ill-defined and being set to 0.0 in labels with no predicted samples. Use `zero_division` parameter to control this behavior.\n",
      "  _warn_prf(average, modifier, msg_start, len(result))\n",
      "/usr/local/lib/python3.11/dist-packages/sklearn/metrics/_classification.py:1344: UndefinedMetricWarning: Precision and F-score are ill-defined and being set to 0.0 in labels with no predicted samples. Use `zero_division` parameter to control this behavior.\n",
      "  _warn_prf(average, modifier, msg_start, len(result))\n"
     ]
    },
    {
     "name": "stdout",
     "output_type": "stream",
     "text": [
      "Runninng config DecisionTreeClassifier_cv on dataset chara_3x3\n"
     ]
    },
    {
     "name": "stderr",
     "output_type": "stream",
     "text": [
      "/usr/local/lib/python3.11/dist-packages/sklearn/metrics/_classification.py:1344: UndefinedMetricWarning: Precision and F-score are ill-defined and being set to 0.0 in labels with no predicted samples. Use `zero_division` parameter to control this behavior.\n",
      "  _warn_prf(average, modifier, msg_start, len(result))\n",
      "/usr/local/lib/python3.11/dist-packages/sklearn/metrics/_classification.py:1344: UndefinedMetricWarning: Precision and F-score are ill-defined and being set to 0.0 in labels with no predicted samples. Use `zero_division` parameter to control this behavior.\n",
      "  _warn_prf(average, modifier, msg_start, len(result))\n",
      "/usr/local/lib/python3.11/dist-packages/sklearn/metrics/_classification.py:1344: UndefinedMetricWarning: Precision and F-score are ill-defined and being set to 0.0 in labels with no predicted samples. Use `zero_division` parameter to control this behavior.\n",
      "  _warn_prf(average, modifier, msg_start, len(result))\n"
     ]
    },
    {
     "name": "stdout",
     "output_type": "stream",
     "text": [
      "Runninng config DecisionTreeClassifier_cv on dataset chara_4x4\n",
      "Runninng config DecisionTreeClassifier_cv on dataset chara_5x5\n",
      "Runninng config DecisionTreeClassifier_cv on dataset chara_6x6\n",
      "Runninng config DecisionTreeClassifier_cv on dataset chara_10x10\n"
     ]
    }
   ],
   "source": [
    "%cd /kaggle/input/github/train_confs\n",
    "hyper(\"cv/DecisionTreeClassifier_cv.json\", [2, 3, 4, 5, 6, 10])"
   ]
  }
 ],
 "metadata": {
  "colab": {
   "provenance": []
  },
  "kaggle": {
   "accelerator": "none",
   "dataSources": [
    {
     "datasetId": 7505141,
     "sourceId": 12023622,
     "sourceType": "datasetVersion"
    }
   ],
   "dockerImageVersionId": 31040,
   "isGpuEnabled": false,
   "isInternetEnabled": false,
   "language": "python",
   "sourceType": "notebook"
  },
  "kernelspec": {
   "display_name": "Python 3",
   "language": "python",
   "name": "python3"
  },
  "language_info": {
   "codemirror_mode": {
    "name": "ipython",
    "version": 3
   },
   "file_extension": ".py",
   "mimetype": "text/x-python",
   "name": "python",
   "nbconvert_exporter": "python",
   "pygments_lexer": "ipython3",
   "version": "3.11.11"
  },
  "papermill": {
   "default_parameters": {},
   "duration": 1466.943461,
   "end_time": "2025-06-01T19:13:51.195649",
   "environment_variables": {},
   "exception": null,
   "input_path": "__notebook__.ipynb",
   "output_path": "__notebook__.ipynb",
   "parameters": {},
   "start_time": "2025-06-01T18:49:24.252188",
   "version": "2.6.0"
  }
 },
 "nbformat": 4,
 "nbformat_minor": 5
}

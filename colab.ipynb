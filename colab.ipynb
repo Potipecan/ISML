{
  "cells": [
    {
      "cell_type": "markdown",
      "metadata": {
        "id": "view-in-github",
        "colab_type": "text"
      },
      "source": [
        "<a href=\"https://colab.research.google.com/github/Potipecan/ISML/blob/main/colab.ipynb\" target=\"_parent\"><img src=\"https://colab.research.google.com/assets/colab-badge.svg\" alt=\"Open In Colab\"/></a>"
      ]
    },
    {
      "cell_type": "code",
      "execution_count": 2,
      "id": "initial_id",
      "metadata": {
        "collapsed": true,
        "colab": {
          "base_uri": "https://localhost:8080/"
        },
        "id": "initial_id",
        "outputId": "7745134e-88ad-4029-cf71-9c34fd7ac601"
      },
      "outputs": [
        {
          "output_type": "stream",
          "name": "stdout",
          "text": [
            "Mounted at /content/drive\n"
          ]
        }
      ],
      "source": [
        "from google.colab import drive\n",
        "drive.mount(\"/content/drive\")"
      ]
    },
    {
      "cell_type": "code",
      "source": [
        "# pull github repo\n",
        "\n",
        "%cd /content/drive/MyDrive/\n",
        "%mkdir github\n",
        "%cd github\n",
        "!git clone https://github.com/Potipecan/ISML.git\n",
        "%cd ISML"
      ],
      "metadata": {
        "colab": {
          "base_uri": "https://localhost:8080/"
        },
        "id": "EeF9ZDPl4_g7",
        "outputId": "8765785a-aae2-4280-d306-0d085720ba08"
      },
      "id": "EeF9ZDPl4_g7",
      "execution_count": 8,
      "outputs": [
        {
          "output_type": "stream",
          "name": "stdout",
          "text": [
            "/content/drive/MyDrive\n",
            "/content/drive/MyDrive/github\n",
            "Cloning into 'ISML'...\n",
            "remote: Enumerating objects: 54, done.\u001b[K\n",
            "remote: Counting objects: 100% (3/3), done.\u001b[K\n",
            "remote: Compressing objects: 100% (3/3), done.\u001b[K\n",
            "remote: Total 54 (delta 0), reused 2 (delta 0), pack-reused 51 (from 1)\u001b[K\n",
            "Receiving objects: 100% (54/54), 66.38 MiB | 14.57 MiB/s, done.\n",
            "Resolving deltas: 100% (13/13), done.\n",
            "Updating files: 100% (16/16), done.\n"
          ]
        }
      ]
    },
    {
      "cell_type": "code",
      "source": [
        "# pull changes\n",
        "%cd /content/drive/MyDrive/github/ISML\n",
        "!git pull"
      ],
      "metadata": {
        "colab": {
          "base_uri": "https://localhost:8080/"
        },
        "id": "m_UWACBx6f-B",
        "outputId": "bdd2c28b-6595-4aec-a247-7b68ad9e4559"
      },
      "id": "m_UWACBx6f-B",
      "execution_count": 21,
      "outputs": [
        {
          "output_type": "stream",
          "name": "stdout",
          "text": [
            "/content/drive/MyDrive/github/ISML\n",
            "remote: Enumerating objects: 5, done.\u001b[K\n",
            "remote: Counting objects: 100% (5/5), done.\u001b[K\n",
            "remote: Compressing objects: 100% (1/1), done.\u001b[K\n",
            "remote: Total 3 (delta 2), reused 3 (delta 2), pack-reused 0 (from 0)\u001b[K\n",
            "Unpacking objects: 100% (3/3), 292 bytes | 4.00 KiB/s, done.\n",
            "From https://github.com/Potipecan/ISML\n",
            "   8cda570..efa1c3d  main       -> origin/main\n",
            "Updating 8cda570..efa1c3d\n",
            "Fast-forward\n",
            " train.py | 4 \u001b[32m++\u001b[m\u001b[31m--\u001b[m\n",
            " 1 file changed, 2 insertions(+), 2 deletions(-)\n"
          ]
        }
      ]
    },
    {
      "cell_type": "code",
      "source": [
        "# run all CV configs on 2x2 characteristics\n",
        "\n",
        "%%sh\n",
        "cd /content/drive/MyDrive/github/ISML\n",
        "\n",
        "CHARA=characteristics/chara_2x2.csv.gz\n",
        "CHARA_STEM=\"${CHARA##*/}\"\n",
        "CHARA_STEM=\"${CHARA_STEM%%.*}\"\n",
        "\n",
        "for f in train_confs/cv/*; do\n",
        "  F_STEM=\"${f##*/}\"\n",
        "  F_STEM=\"${F_STEM%%.*}\"\n",
        "  echo \"Running config: $f\"\n",
        "  python train.py -o \"results/$F_STEM-$CHARA_STEM.json\" \"$CHARA\" \"$f\"\n",
        "done"
      ],
      "metadata": {
        "id": "vjUPsXpv7Agr"
      },
      "id": "vjUPsXpv7Agr",
      "execution_count": null,
      "outputs": []
    }
  ],
  "metadata": {
    "kernelspec": {
      "display_name": "Python 3",
      "language": "python",
      "name": "python3"
    },
    "language_info": {
      "codemirror_mode": {
        "name": "ipython",
        "version": 2
      },
      "file_extension": ".py",
      "mimetype": "text/x-python",
      "name": "python",
      "nbconvert_exporter": "python",
      "pygments_lexer": "ipython2",
      "version": "2.7.6"
    },
    "colab": {
      "provenance": [],
      "include_colab_link": true
    }
  },
  "nbformat": 4,
  "nbformat_minor": 5
}
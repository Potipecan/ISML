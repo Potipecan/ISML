{
 "cells": [
  {
   "cell_type": "code",
   "execution_count": 1,
   "id": "ac4b843a",
   "metadata": {
    "execution": {
     "iopub.execute_input": "2025-05-30T20:22:18.517700Z",
     "iopub.status.busy": "2025-05-30T20:22:18.517205Z",
     "iopub.status.idle": "2025-05-30T20:22:21.009752Z",
     "shell.execute_reply": "2025-05-30T20:22:21.008498Z"
    },
    "id": "vjUPsXpv7Agr",
    "papermill": {
     "duration": 2.499233,
     "end_time": "2025-05-30T20:22:21.011951",
     "exception": false,
     "start_time": "2025-05-30T20:22:18.512718",
     "status": "completed"
    },
    "tags": []
   },
   "outputs": [
    {
     "name": "stdout",
     "output_type": "stream",
     "text": [
      "/kaggle/input/github\n"
     ]
    }
   ],
   "source": [
    "%cd /kaggle/input/github\n",
    "!mkdir -p /kaggle/working/results\n",
    "from pathlib import Path\n",
    "import train as tr\n",
    "import os\n",
    "\n",
    "res_dir = '/kaggle/working/results'\n",
    "\n",
    "def cv(conf, c_file = \"characteristics/chara_2x2.csv\"):\n",
    "    \n",
    "    conf_path = Path(conf)\n",
    "    c_path = Path(c_file)\n",
    "    print(f\"Runninng config {conf_path.stem} on dataset {c_path.stem}\")\n",
    "    res_path = f\"{res_dir}/{conf_path.stem}-{c_path.stem}.json\"\n",
    "    tr.train(res_path, conf, c_file, False)"
   ]
  },
  {
   "cell_type": "code",
   "execution_count": 2,
   "id": "8de6a5d8",
   "metadata": {
    "execution": {
     "iopub.execute_input": "2025-05-30T20:22:21.018582Z",
     "iopub.status.busy": "2025-05-30T20:22:21.018025Z",
     "iopub.status.idle": "2025-05-30T20:22:21.487325Z",
     "shell.execute_reply": "2025-05-30T20:22:21.485930Z"
    },
    "id": "Mp21piljq7YC",
    "papermill": {
     "duration": 0.474867,
     "end_time": "2025-05-30T20:22:21.489647",
     "exception": false,
     "start_time": "2025-05-30T20:22:21.014780",
     "status": "completed"
    },
    "tags": []
   },
   "outputs": [
    {
     "name": "stdout",
     "output_type": "stream",
     "text": [
      "/kaggle/input/github\n"
     ]
    }
   ],
   "source": [
    "%cd /kaggle/input/github/\n",
    "!mkdir -p /kaggle/working/hyper\n",
    "\n",
    "# generate known result configs\n",
    "import os\n",
    "import json\n",
    "\n",
    "\n",
    "for f in os.scandir('/kaggle/input/github/results'):\n",
    "  name = f.name.split(\"_\")[0]\n",
    "  j = json.load(open(f, 'rt'))\n",
    "  d = {\n",
    "      \"model\": name,\n",
    "      \"hyper\": j['hyperparams'],\n",
    "  }\n",
    "  with open(f\"/kaggle/working/hyper/{name}_hyper.json\", 'w') as f:\n",
    "    json.dump(d, f)\n",
    "\n",
    "def hyper(conf, sizes=[3, 4, 5, 6, 10]):\n",
    "    for s in sizes:\n",
    "        chara_f = f\"/kaggle/input/github/characteristics/chara_{s}x{s}.csv\"\n",
    "        cv(conf, chara_f)\n",
    "\n"
   ]
  },
  {
   "cell_type": "code",
   "execution_count": 3,
   "id": "6c4b32d0",
   "metadata": {
    "execution": {
     "iopub.execute_input": "2025-05-30T20:22:21.495286Z",
     "iopub.status.busy": "2025-05-30T20:22:21.494491Z",
     "iopub.status.idle": "2025-05-30T22:41:09.285578Z",
     "shell.execute_reply": "2025-05-30T22:41:09.281856Z"
    },
    "papermill": {
     "duration": 8327.799859,
     "end_time": "2025-05-30T22:41:09.291500",
     "exception": false,
     "start_time": "2025-05-30T20:22:21.491641",
     "status": "completed"
    },
    "tags": []
   },
   "outputs": [
    {
     "name": "stdout",
     "output_type": "stream",
     "text": [
      "/kaggle/input/github/train_confs\n",
      "Runninng config LinearSVC_cv on dataset chara_2x2\n"
     ]
    },
    {
     "name": "stderr",
     "output_type": "stream",
     "text": [
      "/usr/local/lib/python3.11/dist-packages/sklearn/model_selection/_search.py:305: UserWarning: The total space of parameters 3 is smaller than n_iter=10. Running 3 iterations. For exhaustive searches, use GridSearchCV.\n",
      "  warnings.warn(\n",
      "/usr/local/lib/python3.11/dist-packages/sklearn/metrics/_classification.py:1344: UndefinedMetricWarning: Precision and F-score are ill-defined and being set to 0.0 in labels with no predicted samples. Use `zero_division` parameter to control this behavior.\n",
      "  _warn_prf(average, modifier, msg_start, len(result))\n",
      "/usr/local/lib/python3.11/dist-packages/sklearn/metrics/_classification.py:1344: UndefinedMetricWarning: Precision and F-score are ill-defined and being set to 0.0 in labels with no predicted samples. Use `zero_division` parameter to control this behavior.\n",
      "  _warn_prf(average, modifier, msg_start, len(result))\n",
      "/usr/local/lib/python3.11/dist-packages/sklearn/metrics/_classification.py:1344: UndefinedMetricWarning: Precision and F-score are ill-defined and being set to 0.0 in labels with no predicted samples. Use `zero_division` parameter to control this behavior.\n",
      "  _warn_prf(average, modifier, msg_start, len(result))\n"
     ]
    },
    {
     "name": "stdout",
     "output_type": "stream",
     "text": [
      "Runninng config LinearSVC_cv on dataset chara_3x3\n"
     ]
    },
    {
     "name": "stderr",
     "output_type": "stream",
     "text": [
      "/usr/local/lib/python3.11/dist-packages/sklearn/model_selection/_search.py:305: UserWarning: The total space of parameters 3 is smaller than n_iter=10. Running 3 iterations. For exhaustive searches, use GridSearchCV.\n",
      "  warnings.warn(\n",
      "/usr/local/lib/python3.11/dist-packages/sklearn/metrics/_classification.py:1344: UndefinedMetricWarning: Precision and F-score are ill-defined and being set to 0.0 in labels with no predicted samples. Use `zero_division` parameter to control this behavior.\n",
      "  _warn_prf(average, modifier, msg_start, len(result))\n",
      "/usr/local/lib/python3.11/dist-packages/sklearn/metrics/_classification.py:1344: UndefinedMetricWarning: Precision and F-score are ill-defined and being set to 0.0 in labels with no predicted samples. Use `zero_division` parameter to control this behavior.\n",
      "  _warn_prf(average, modifier, msg_start, len(result))\n",
      "/usr/local/lib/python3.11/dist-packages/sklearn/metrics/_classification.py:1344: UndefinedMetricWarning: Precision and F-score are ill-defined and being set to 0.0 in labels with no predicted samples. Use `zero_division` parameter to control this behavior.\n",
      "  _warn_prf(average, modifier, msg_start, len(result))\n"
     ]
    },
    {
     "name": "stdout",
     "output_type": "stream",
     "text": [
      "Runninng config LinearSVC_cv on dataset chara_4x4\n"
     ]
    },
    {
     "name": "stderr",
     "output_type": "stream",
     "text": [
      "/usr/local/lib/python3.11/dist-packages/sklearn/model_selection/_search.py:305: UserWarning: The total space of parameters 3 is smaller than n_iter=10. Running 3 iterations. For exhaustive searches, use GridSearchCV.\n",
      "  warnings.warn(\n",
      "/usr/local/lib/python3.11/dist-packages/sklearn/metrics/_classification.py:1344: UndefinedMetricWarning: Precision and F-score are ill-defined and being set to 0.0 in labels with no predicted samples. Use `zero_division` parameter to control this behavior.\n",
      "  _warn_prf(average, modifier, msg_start, len(result))\n",
      "/usr/local/lib/python3.11/dist-packages/sklearn/metrics/_classification.py:1344: UndefinedMetricWarning: Precision and F-score are ill-defined and being set to 0.0 in labels with no predicted samples. Use `zero_division` parameter to control this behavior.\n",
      "  _warn_prf(average, modifier, msg_start, len(result))\n",
      "/usr/local/lib/python3.11/dist-packages/sklearn/metrics/_classification.py:1344: UndefinedMetricWarning: Precision and F-score are ill-defined and being set to 0.0 in labels with no predicted samples. Use `zero_division` parameter to control this behavior.\n",
      "  _warn_prf(average, modifier, msg_start, len(result))\n"
     ]
    },
    {
     "name": "stdout",
     "output_type": "stream",
     "text": [
      "Runninng config LinearSVC_cv on dataset chara_5x5\n"
     ]
    },
    {
     "name": "stderr",
     "output_type": "stream",
     "text": [
      "/usr/local/lib/python3.11/dist-packages/sklearn/model_selection/_search.py:305: UserWarning: The total space of parameters 3 is smaller than n_iter=10. Running 3 iterations. For exhaustive searches, use GridSearchCV.\n",
      "  warnings.warn(\n"
     ]
    },
    {
     "name": "stdout",
     "output_type": "stream",
     "text": [
      "Runninng config LinearSVC_cv on dataset chara_6x6\n"
     ]
    },
    {
     "name": "stderr",
     "output_type": "stream",
     "text": [
      "/usr/local/lib/python3.11/dist-packages/sklearn/model_selection/_search.py:305: UserWarning: The total space of parameters 3 is smaller than n_iter=10. Running 3 iterations. For exhaustive searches, use GridSearchCV.\n",
      "  warnings.warn(\n"
     ]
    },
    {
     "name": "stdout",
     "output_type": "stream",
     "text": [
      "Runninng config LinearSVC_cv on dataset chara_10x10\n"
     ]
    },
    {
     "name": "stderr",
     "output_type": "stream",
     "text": [
      "/usr/local/lib/python3.11/dist-packages/sklearn/model_selection/_search.py:305: UserWarning: The total space of parameters 3 is smaller than n_iter=10. Running 3 iterations. For exhaustive searches, use GridSearchCV.\n",
      "  warnings.warn(\n"
     ]
    }
   ],
   "source": [
    "%cd /kaggle/input/github/train_confs\n",
    "hyper(\"cv/LinearSVC_cv.json\", [2, 3, 4, 5, 6, 10])"
   ]
  }
 ],
 "metadata": {
  "colab": {
   "provenance": []
  },
  "kaggle": {
   "accelerator": "none",
   "dataSources": [
    {
     "datasetId": 7505141,
     "sourceId": 12010898,
     "sourceType": "datasetVersion"
    }
   ],
   "dockerImageVersionId": 31040,
   "isGpuEnabled": false,
   "isInternetEnabled": false,
   "language": "python",
   "sourceType": "notebook"
  },
  "kernelspec": {
   "display_name": "Python 3",
   "language": "python",
   "name": "python3"
  },
  "language_info": {
   "codemirror_mode": {
    "name": "ipython",
    "version": 3
   },
   "file_extension": ".py",
   "mimetype": "text/x-python",
   "name": "python",
   "nbconvert_exporter": "python",
   "pygments_lexer": "ipython3",
   "version": "3.11.11"
  },
  "papermill": {
   "default_parameters": {},
   "duration": 8338.776938,
   "end_time": "2025-05-30T22:41:12.054460",
   "environment_variables": {},
   "exception": null,
   "input_path": "__notebook__.ipynb",
   "output_path": "__notebook__.ipynb",
   "parameters": {},
   "start_time": "2025-05-30T20:22:13.277522",
   "version": "2.6.0"
  }
 },
 "nbformat": 4,
 "nbformat_minor": 5
}

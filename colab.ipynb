{
 "cells": [
  {
   "cell_type": "code",
   "execution_count": 1,
   "id": "1fba4763",
   "metadata": {
    "execution": {
     "iopub.execute_input": "2025-06-11T11:57:51.390721Z",
     "iopub.status.busy": "2025-06-11T11:57:51.390428Z",
     "iopub.status.idle": "2025-06-11T11:57:55.392480Z",
     "shell.execute_reply": "2025-06-11T11:57:55.391542Z"
    },
    "id": "vjUPsXpv7Agr",
    "papermill": {
     "duration": 4.007178,
     "end_time": "2025-06-11T11:57:55.394496",
     "exception": false,
     "start_time": "2025-06-11T11:57:51.387318",
     "status": "completed"
    },
    "tags": []
   },
   "outputs": [
    {
     "name": "stdout",
     "output_type": "stream",
     "text": [
      "/kaggle/input/github\n"
     ]
    }
   ],
   "source": [
    "%cd /kaggle/input/github\n",
    "!mkdir -p /kaggle/working/results\n",
    "from pathlib import Path\n",
    "import train as tr\n",
    "import os\n",
    "\n",
    "res_dir = '/kaggle/working/results'\n",
    "\n",
    "def cv(conf, c_file = \"characteristics/chara_2x2.csv\"):\n",
    "    \n",
    "    conf_path = Path(conf)\n",
    "    c_path = Path(c_file)\n",
    "    print(f\"Runninng config {conf_path.stem} on dataset {c_path.stem}\")\n",
    "    res_path = f\"{res_dir}/{conf_path.stem}-{c_path.stem}.json\"\n",
    "    tr.train(res_path, conf, c_file, False)"
   ]
  },
  {
   "cell_type": "code",
   "execution_count": 2,
   "id": "44b010f8",
   "metadata": {
    "execution": {
     "iopub.execute_input": "2025-06-11T11:57:55.401161Z",
     "iopub.status.busy": "2025-06-11T11:57:55.400747Z",
     "iopub.status.idle": "2025-06-11T11:57:55.529623Z",
     "shell.execute_reply": "2025-06-11T11:57:55.528576Z"
    },
    "id": "Mp21piljq7YC",
    "papermill": {
     "duration": 0.133882,
     "end_time": "2025-06-11T11:57:55.531294",
     "exception": false,
     "start_time": "2025-06-11T11:57:55.397412",
     "status": "completed"
    },
    "tags": []
   },
   "outputs": [
    {
     "name": "stdout",
     "output_type": "stream",
     "text": [
      "/kaggle/input/github\n"
     ]
    }
   ],
   "source": [
    "%cd /kaggle/input/github/\n",
    "!mkdir -p /kaggle/working/hyper\n",
    "\n",
    "# generate known result configs\n",
    "import os\n",
    "import json\n",
    "\n",
    "\n",
    "# for f in os.scandir('/kaggle/input/github/results'):\n",
    "#   name = f.name.split(\"_\")[0]\n",
    "#   j = json.load(open(f, 'rt'))\n",
    "#   d = {\n",
    "#       \"model\": name,\n",
    "#       \"hyper\": j['hyperparams'],\n",
    "#   }\n",
    "#   with open(f\"/kaggle/working/hyper/{name}_hyper.json\", 'w') as f:\n",
    "#     json.dump(d, f)\n",
    "\n",
    "def hyper(conf, sizes=[3, 4, 5, 6, 10]):\n",
    "    for s in sizes:\n",
    "        chara_f = f\"/kaggle/input/github/characteristics/chara_{s}x{s}.csv\"\n",
    "        cv(conf, chara_f)\n",
    "\n"
   ]
  },
  {
   "cell_type": "code",
   "execution_count": 3,
   "id": "f8ba74af",
   "metadata": {
    "execution": {
     "iopub.execute_input": "2025-06-11T11:57:55.535919Z",
     "iopub.status.busy": "2025-06-11T11:57:55.535626Z",
     "iopub.status.idle": "2025-06-11T12:46:51.509100Z",
     "shell.execute_reply": "2025-06-11T12:46:51.507612Z"
    },
    "papermill": {
     "duration": 2935.978962,
     "end_time": "2025-06-11T12:46:51.512017",
     "exception": false,
     "start_time": "2025-06-11T11:57:55.533055",
     "status": "completed"
    },
    "tags": []
   },
   "outputs": [
    {
     "name": "stdout",
     "output_type": "stream",
     "text": [
      "/kaggle/input/github/train_confs\n",
      "Runninng config DecisionTreesClassifier on dataset chara_6x6-filtered_z\n",
      "Fitting 2 folds for each of 45 candidates, totalling 90 fits\n",
      "Runninng config DecisionTreesClassifier on dataset chara_6x6-filtered_iqr\n",
      "Fitting 2 folds for each of 45 candidates, totalling 90 fits\n",
      "Runninng config DecisionTreesClassifier on dataset chara_6x6-filtered_iso\n",
      "Fitting 2 folds for each of 45 candidates, totalling 90 fits\n"
     ]
    }
   ],
   "source": [
    "%cd /kaggle/input/github/train_confs\n",
    "#cv(\"final/MLPClassifier.json\", \"/kaggle/input/github/characteristics/chara_10x10-filtered_z.csv\")\n",
    "#cv(\"final/MLPClassifier.json\", \"/kaggle/input/github/characteristics/chara_10x10-filtered_iqr.csv\")\n",
    "#cv(\"final/MLPClassifier.json\", \"/kaggle/input/github/characteristics/chara_10x10-filtered_iso.csv\")\n",
    "\n",
    "#cv(\"final/KNeighborsClassifier.json\", \"/kaggle/input/github/characteristics/chara_10x10-filtered_z.csv\")\n",
    "#cv(\"final/KNeighborsClassifier.json\", \"/kaggle/input/github/characteristics/chara_10x10-filtered_iqr.csv\")\n",
    "#cv(\"final/KNeighborsClassifier.json\", \"/kaggle/input/github/characteristics/chara_10x10-filtered_iso.csv\")\n",
    "\n",
    "#cv(\"final/SGDClassifier.json\", \"/kaggle/input/github/characteristics/chara_10x10-filtered_z.csv\")\n",
    "#cv(\"final/SGDClassifier.json\", \"/kaggle/input/github/characteristics/chara_10x10-filtered_iqr.csv\")\n",
    "#cv(\"final/SGDClassifier.json\", \"/kaggle/input/github/characteristics/chara_10x10-filtered_iso.csv\")\n",
    "\n",
    "#cv(\"final/LogisticRegression.json\", \"/kaggle/input/github/characteristics/chara_10x10-filtered_z.csv\")\n",
    "#cv(\"final/LogisticRegression.json\", \"/kaggle/input/github/characteristics/chara_10x10-filtered_iqr.csv\")\n",
    "#cv(\"final/LogisticRegression.json\", \"/kaggle/input/github/characteristics/chara_10x10-filtered_iso.csv\")\n",
    "\n",
    "cv(\"final/DecisionTreesClassifier.json\", \"/kaggle/input/github/characteristics/chara_6x6-filtered_z.csv\")\n",
    "cv(\"final/DecisionTreesClassifier.json\", \"/kaggle/input/github/characteristics/chara_6x6-filtered_iqr.csv\")\n",
    "cv(\"final/DecisionTreesClassifier.json\", \"/kaggle/input/github/characteristics/chara_6x6-filtered_iso.csv\")"
   ]
  }
 ],
 "metadata": {
  "colab": {
   "provenance": []
  },
  "kaggle": {
   "accelerator": "none",
   "dataSources": [
    {
     "datasetId": 7617793,
     "sourceId": 12130456,
     "sourceType": "datasetVersion"
    }
   ],
   "isGpuEnabled": false,
   "isInternetEnabled": false,
   "language": "python",
   "sourceType": "notebook"
  },
  "kernelspec": {
   "display_name": "Python 3",
   "language": "python",
   "name": "python3"
  },
  "language_info": {
   "codemirror_mode": {
    "name": "ipython",
    "version": 3
   },
   "file_extension": ".py",
   "mimetype": "text/x-python",
   "name": "python",
   "nbconvert_exporter": "python",
   "pygments_lexer": "ipython3",
   "version": "3.11.11"
  },
  "papermill": {
   "default_parameters": {},
   "duration": 2947.353618,
   "end_time": "2025-06-11T12:46:54.138842",
   "environment_variables": {},
   "exception": null,
   "input_path": "__notebook__.ipynb",
   "output_path": "__notebook__.ipynb",
   "parameters": {},
   "start_time": "2025-06-11T11:57:46.785224",
   "version": "2.6.0"
  }
 },
 "nbformat": 4,
 "nbformat_minor": 5
}

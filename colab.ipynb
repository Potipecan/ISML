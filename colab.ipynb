{
 "cells": [
  {
   "cell_type": "code",
   "execution_count": 1,
   "id": "a3dcbcbb",
   "metadata": {
    "execution": {
     "iopub.execute_input": "2025-05-29T07:46:12.582445Z",
     "iopub.status.busy": "2025-05-29T07:46:12.582042Z",
     "iopub.status.idle": "2025-05-29T07:46:14.996226Z",
     "shell.execute_reply": "2025-05-29T07:46:14.994607Z"
    },
    "id": "vjUPsXpv7Agr",
    "papermill": {
     "duration": 2.422821,
     "end_time": "2025-05-29T07:46:14.998807",
     "exception": false,
     "start_time": "2025-05-29T07:46:12.575986",
     "status": "completed"
    },
    "tags": []
   },
   "outputs": [
    {
     "name": "stdout",
     "output_type": "stream",
     "text": [
      "/kaggle/input/github\n"
     ]
    }
   ],
   "source": [
    "%cd /kaggle/input/github\n",
    "!mkdir -p /kaggle/working/results\n",
    "from pathlib import Path\n",
    "import train as tr\n",
    "import os\n",
    "\n",
    "res_dir = '/kaggle/working/results'\n",
    "\n",
    "def cv(conf, c_file = \"characteristics/chara_2x2.csv\"):\n",
    "    \n",
    "    conf_path = Path(conf)\n",
    "    c_path = Path(c_file)\n",
    "    print(f\"Runninng config {conf_path.stem} on dataset {c_path.stem}\")\n",
    "    res_path = f\"{res_dir}/{conf_path.stem}-{c_path.stem}.json\"\n",
    "    tr.train(res_path, conf, c_file, False)"
   ]
  },
  {
   "cell_type": "code",
   "execution_count": 2,
   "id": "e2aa1ed7",
   "metadata": {
    "execution": {
     "iopub.execute_input": "2025-05-29T07:46:15.011198Z",
     "iopub.status.busy": "2025-05-29T07:46:15.010465Z",
     "iopub.status.idle": "2025-05-29T07:46:15.016665Z",
     "shell.execute_reply": "2025-05-29T07:46:15.015416Z"
    },
    "papermill": {
     "duration": 0.01581,
     "end_time": "2025-05-29T07:46:15.019126",
     "exception": false,
     "start_time": "2025-05-29T07:46:15.003316",
     "status": "completed"
    },
    "tags": []
   },
   "outputs": [],
   "source": [
    "#cv(\"/kaggle/input/github/train_confs/cv/AdaBoostClassifier_cv.json\")"
   ]
  },
  {
   "cell_type": "code",
   "execution_count": 3,
   "id": "2edd9a61",
   "metadata": {
    "execution": {
     "iopub.execute_input": "2025-05-29T07:46:15.028914Z",
     "iopub.status.busy": "2025-05-29T07:46:15.028575Z",
     "iopub.status.idle": "2025-05-29T07:46:15.032986Z",
     "shell.execute_reply": "2025-05-29T07:46:15.032199Z"
    },
    "papermill": {
     "duration": 0.011365,
     "end_time": "2025-05-29T07:46:15.035088",
     "exception": false,
     "start_time": "2025-05-29T07:46:15.023723",
     "status": "completed"
    },
    "tags": []
   },
   "outputs": [],
   "source": [
    "#cv(\"/kaggle/input/github/train_confs/cv/DecisionTreeClassifier_cv.json\")"
   ]
  },
  {
   "cell_type": "code",
   "execution_count": 4,
   "id": "cc51b8b6",
   "metadata": {
    "execution": {
     "iopub.execute_input": "2025-05-29T07:46:15.045162Z",
     "iopub.status.busy": "2025-05-29T07:46:15.044847Z",
     "iopub.status.idle": "2025-05-29T07:46:15.049693Z",
     "shell.execute_reply": "2025-05-29T07:46:15.048553Z"
    },
    "papermill": {
     "duration": 0.012547,
     "end_time": "2025-05-29T07:46:15.051866",
     "exception": false,
     "start_time": "2025-05-29T07:46:15.039319",
     "status": "completed"
    },
    "tags": []
   },
   "outputs": [],
   "source": [
    "#cv(\"/kaggle/input/github/train_confs/cv/KNeighborsClassifier_cv.json\")"
   ]
  },
  {
   "cell_type": "code",
   "execution_count": 5,
   "id": "d70c817a",
   "metadata": {
    "execution": {
     "iopub.execute_input": "2025-05-29T07:46:15.061230Z",
     "iopub.status.busy": "2025-05-29T07:46:15.060901Z",
     "iopub.status.idle": "2025-05-29T07:46:15.065540Z",
     "shell.execute_reply": "2025-05-29T07:46:15.064487Z"
    },
    "papermill": {
     "duration": 0.011352,
     "end_time": "2025-05-29T07:46:15.067411",
     "exception": false,
     "start_time": "2025-05-29T07:46:15.056059",
     "status": "completed"
    },
    "tags": []
   },
   "outputs": [],
   "source": [
    "#cv(\"/kaggle/input/github/train_confs/cv/LogisticRegression_cv.json\")"
   ]
  },
  {
   "cell_type": "code",
   "execution_count": 6,
   "id": "1c7a77c1",
   "metadata": {
    "execution": {
     "iopub.execute_input": "2025-05-29T07:46:15.079052Z",
     "iopub.status.busy": "2025-05-29T07:46:15.078672Z",
     "iopub.status.idle": "2025-05-29T07:46:15.083959Z",
     "shell.execute_reply": "2025-05-29T07:46:15.082697Z"
    },
    "papermill": {
     "duration": 0.013981,
     "end_time": "2025-05-29T07:46:15.085732",
     "exception": false,
     "start_time": "2025-05-29T07:46:15.071751",
     "status": "completed"
    },
    "tags": []
   },
   "outputs": [],
   "source": [
    "#cv(\"/kaggle/input/github/train_confs/cv/SGDClassifier_cv.json\")"
   ]
  },
  {
   "cell_type": "code",
   "execution_count": 7,
   "id": "4567f279",
   "metadata": {
    "execution": {
     "iopub.execute_input": "2025-05-29T07:46:15.096354Z",
     "iopub.status.busy": "2025-05-29T07:46:15.095959Z",
     "iopub.status.idle": "2025-05-29T07:46:15.101495Z",
     "shell.execute_reply": "2025-05-29T07:46:15.100432Z"
    },
    "papermill": {
     "duration": 0.012521,
     "end_time": "2025-05-29T07:46:15.103093",
     "exception": false,
     "start_time": "2025-05-29T07:46:15.090572",
     "status": "completed"
    },
    "tags": []
   },
   "outputs": [],
   "source": [
    "#cv(\"/kaggle/input/github/train_confs/cv/RidgeClassifier_cv.json\")"
   ]
  },
  {
   "cell_type": "code",
   "execution_count": 8,
   "id": "c2d665ed",
   "metadata": {
    "execution": {
     "iopub.execute_input": "2025-05-29T07:46:15.115856Z",
     "iopub.status.busy": "2025-05-29T07:46:15.115406Z",
     "iopub.status.idle": "2025-05-29T07:46:15.122344Z",
     "shell.execute_reply": "2025-05-29T07:46:15.120845Z"
    },
    "papermill": {
     "duration": 0.017012,
     "end_time": "2025-05-29T07:46:15.125020",
     "exception": false,
     "start_time": "2025-05-29T07:46:15.108008",
     "status": "completed"
    },
    "tags": []
   },
   "outputs": [],
   "source": [
    "#cv(\"/kaggle/input/github/train_confs/cv/MLPClassifier_cv.json\")"
   ]
  },
  {
   "cell_type": "code",
   "execution_count": 9,
   "id": "9d4b0b7e",
   "metadata": {
    "execution": {
     "iopub.execute_input": "2025-05-29T07:46:15.136487Z",
     "iopub.status.busy": "2025-05-29T07:46:15.136009Z",
     "iopub.status.idle": "2025-05-29T07:46:15.141532Z",
     "shell.execute_reply": "2025-05-29T07:46:15.140328Z"
    },
    "papermill": {
     "duration": 0.012976,
     "end_time": "2025-05-29T07:46:15.143658",
     "exception": false,
     "start_time": "2025-05-29T07:46:15.130682",
     "status": "completed"
    },
    "tags": []
   },
   "outputs": [],
   "source": [
    "#cv(\"/kaggle/input/github/train_confs/cv/GradientBoostingClassifier_cv.json\")"
   ]
  },
  {
   "cell_type": "code",
   "execution_count": 10,
   "id": "65afc8f0",
   "metadata": {
    "execution": {
     "iopub.execute_input": "2025-05-29T07:46:15.156727Z",
     "iopub.status.busy": "2025-05-29T07:46:15.156363Z",
     "iopub.status.idle": "2025-05-29T07:46:15.161544Z",
     "shell.execute_reply": "2025-05-29T07:46:15.160268Z"
    },
    "papermill": {
     "duration": 0.013118,
     "end_time": "2025-05-29T07:46:15.163346",
     "exception": false,
     "start_time": "2025-05-29T07:46:15.150228",
     "status": "completed"
    },
    "tags": []
   },
   "outputs": [],
   "source": [
    "#cv(\"/kaggle/input/github/train_confs/cv/HistGradientBoostingClassifier_cv.json\")"
   ]
  },
  {
   "cell_type": "code",
   "execution_count": 11,
   "id": "c8675d5b",
   "metadata": {
    "execution": {
     "iopub.execute_input": "2025-05-29T07:46:15.176839Z",
     "iopub.status.busy": "2025-05-29T07:46:15.176510Z",
     "iopub.status.idle": "2025-05-29T07:46:15.181618Z",
     "shell.execute_reply": "2025-05-29T07:46:15.180492Z"
    },
    "papermill": {
     "duration": 0.013701,
     "end_time": "2025-05-29T07:46:15.183167",
     "exception": false,
     "start_time": "2025-05-29T07:46:15.169466",
     "status": "completed"
    },
    "tags": []
   },
   "outputs": [],
   "source": [
    "#cv(\"/kaggle/input/github/train_confs/cv/RandomForestClassifier_cv.json\")"
   ]
  },
  {
   "cell_type": "code",
   "execution_count": 12,
   "id": "fc1372ee",
   "metadata": {
    "execution": {
     "iopub.execute_input": "2025-05-29T07:46:15.193235Z",
     "iopub.status.busy": "2025-05-29T07:46:15.192481Z",
     "iopub.status.idle": "2025-05-29T07:46:15.512052Z",
     "shell.execute_reply": "2025-05-29T07:46:15.510597Z"
    },
    "id": "Mp21piljq7YC",
    "papermill": {
     "duration": 0.326675,
     "end_time": "2025-05-29T07:46:15.514143",
     "exception": false,
     "start_time": "2025-05-29T07:46:15.187468",
     "status": "completed"
    },
    "tags": []
   },
   "outputs": [
    {
     "name": "stdout",
     "output_type": "stream",
     "text": [
      "/kaggle/input/github\n"
     ]
    }
   ],
   "source": [
    "%cd /kaggle/input/github/\n",
    "!mkdir -p /kaggle/working/hyper\n",
    "\n",
    "# generate known result configs\n",
    "import os\n",
    "import json\n",
    "\n",
    "\n",
    "for f in os.scandir('/kaggle/input/github/results'):\n",
    "  name = f.name.split(\"_\")[0]\n",
    "  j = json.load(open(f, 'rt'))\n",
    "  d = {\n",
    "      \"model\": name,\n",
    "      \"hyper\": j['hyperparams'],\n",
    "  }\n",
    "  with open(f\"/kaggle/working/hyper/{name}_hyper.json\", 'w') as f:\n",
    "    json.dump(d, f)\n",
    "\n",
    "def hyper(conf, sizes=[3, 4, 5, 6, 10]):\n",
    "    for s in sizes:\n",
    "        chara_f = f\"/kaggle/input/github/characteristics/chara_{s}x{s}.csv\"\n",
    "        cv(conf, chara_f)\n",
    "\n"
   ]
  },
  {
   "cell_type": "code",
   "execution_count": 13,
   "id": "895ade92",
   "metadata": {
    "execution": {
     "iopub.execute_input": "2025-05-29T07:46:15.525190Z",
     "iopub.status.busy": "2025-05-29T07:46:15.524070Z",
     "iopub.status.idle": "2025-05-29T07:48:35.939335Z",
     "shell.execute_reply": "2025-05-29T07:48:35.938362Z"
    },
    "papermill": {
     "duration": 140.422397,
     "end_time": "2025-05-29T07:48:35.941069",
     "exception": false,
     "start_time": "2025-05-29T07:46:15.518672",
     "status": "completed"
    },
    "tags": []
   },
   "outputs": [
    {
     "name": "stdout",
     "output_type": "stream",
     "text": [
      "/kaggle/input/github/train_confs\n",
      "Runninng config AdaBoostClassifier_hyper on dataset chara_10x10\n"
     ]
    }
   ],
   "source": [
    "%cd /kaggle/input/github/train_confs\n",
    "hyper(\"hyper/AdaBoostClassifier_hyper.json\", [10])"
   ]
  },
  {
   "cell_type": "code",
   "execution_count": 14,
   "id": "fce8d2a9",
   "metadata": {
    "execution": {
     "iopub.execute_input": "2025-05-29T07:48:35.951865Z",
     "iopub.status.busy": "2025-05-29T07:48:35.950755Z",
     "iopub.status.idle": "2025-05-29T07:49:19.540924Z",
     "shell.execute_reply": "2025-05-29T07:49:19.539455Z"
    },
    "papermill": {
     "duration": 43.59761,
     "end_time": "2025-05-29T07:49:19.543198",
     "exception": false,
     "start_time": "2025-05-29T07:48:35.945588",
     "status": "completed"
    },
    "tags": []
   },
   "outputs": [
    {
     "name": "stdout",
     "output_type": "stream",
     "text": [
      "Runninng config DecisionTreeClassifier_hyper on dataset chara_10x10\n"
     ]
    },
    {
     "name": "stderr",
     "output_type": "stream",
     "text": [
      "/usr/local/lib/python3.11/dist-packages/sklearn/metrics/_classification.py:1344: UndefinedMetricWarning: Precision and F-score are ill-defined and being set to 0.0 in labels with no predicted samples. Use `zero_division` parameter to control this behavior.\n",
      "  _warn_prf(average, modifier, msg_start, len(result))\n",
      "/usr/local/lib/python3.11/dist-packages/sklearn/metrics/_classification.py:1344: UndefinedMetricWarning: Precision and F-score are ill-defined and being set to 0.0 in labels with no predicted samples. Use `zero_division` parameter to control this behavior.\n",
      "  _warn_prf(average, modifier, msg_start, len(result))\n",
      "/usr/local/lib/python3.11/dist-packages/sklearn/metrics/_classification.py:1344: UndefinedMetricWarning: Precision and F-score are ill-defined and being set to 0.0 in labels with no predicted samples. Use `zero_division` parameter to control this behavior.\n",
      "  _warn_prf(average, modifier, msg_start, len(result))\n"
     ]
    }
   ],
   "source": [
    "hyper(\"hyper/DecisionTreeClassifier_hyper.json\",[10])"
   ]
  },
  {
   "cell_type": "code",
   "execution_count": 15,
   "id": "f8cdbbb3",
   "metadata": {
    "execution": {
     "iopub.execute_input": "2025-05-29T07:49:19.553737Z",
     "iopub.status.busy": "2025-05-29T07:49:19.553385Z",
     "iopub.status.idle": "2025-05-29T07:51:41.258979Z",
     "shell.execute_reply": "2025-05-29T07:51:41.257802Z"
    },
    "papermill": {
     "duration": 141.71275,
     "end_time": "2025-05-29T07:51:41.260699",
     "exception": false,
     "start_time": "2025-05-29T07:49:19.547949",
     "status": "completed"
    },
    "tags": []
   },
   "outputs": [
    {
     "name": "stdout",
     "output_type": "stream",
     "text": [
      "Runninng config KNeighborsClassifier_hyper on dataset chara_10x10\n"
     ]
    }
   ],
   "source": [
    "hyper(\"hyper/KNeighborsClassifier_hyper.json\", [10])"
   ]
  },
  {
   "cell_type": "code",
   "execution_count": 16,
   "id": "7fcf3742",
   "metadata": {
    "execution": {
     "iopub.execute_input": "2025-05-29T07:51:41.272462Z",
     "iopub.status.busy": "2025-05-29T07:51:41.272101Z",
     "iopub.status.idle": "2025-05-29T08:15:59.777301Z",
     "shell.execute_reply": "2025-05-29T08:15:59.776269Z"
    },
    "papermill": {
     "duration": 1458.513032,
     "end_time": "2025-05-29T08:15:59.779098",
     "exception": false,
     "start_time": "2025-05-29T07:51:41.266066",
     "status": "completed"
    },
    "tags": []
   },
   "outputs": [
    {
     "name": "stdout",
     "output_type": "stream",
     "text": [
      "Runninng config LogisticRegression_hyper on dataset chara_10x10\n"
     ]
    }
   ],
   "source": [
    "hyper(\"hyper/LogisticRegression_hyper.json\", [10])"
   ]
  },
  {
   "cell_type": "code",
   "execution_count": 17,
   "id": "effe2c27",
   "metadata": {
    "execution": {
     "iopub.execute_input": "2025-05-29T08:15:59.790080Z",
     "iopub.status.busy": "2025-05-29T08:15:59.789771Z",
     "iopub.status.idle": "2025-05-29T08:30:06.237405Z",
     "shell.execute_reply": "2025-05-29T08:30:06.236305Z"
    },
    "papermill": {
     "duration": 846.455234,
     "end_time": "2025-05-29T08:30:06.239367",
     "exception": false,
     "start_time": "2025-05-29T08:15:59.784133",
     "status": "completed"
    },
    "tags": []
   },
   "outputs": [
    {
     "name": "stdout",
     "output_type": "stream",
     "text": [
      "Runninng config SGDClassifier_hyper on dataset chara_10x10\n"
     ]
    }
   ],
   "source": [
    "hyper(\"hyper/SGDClassifier_hyper.json\", [10])"
   ]
  },
  {
   "cell_type": "code",
   "execution_count": 18,
   "id": "3f24d9b2",
   "metadata": {
    "execution": {
     "iopub.execute_input": "2025-05-29T08:30:06.250709Z",
     "iopub.status.busy": "2025-05-29T08:30:06.250341Z",
     "iopub.status.idle": "2025-05-29T08:30:28.932979Z",
     "shell.execute_reply": "2025-05-29T08:30:28.931935Z"
    },
    "papermill": {
     "duration": 22.690121,
     "end_time": "2025-05-29T08:30:28.934725",
     "exception": false,
     "start_time": "2025-05-29T08:30:06.244604",
     "status": "completed"
    },
    "tags": []
   },
   "outputs": [
    {
     "name": "stdout",
     "output_type": "stream",
     "text": [
      "Runninng config RidgeClassifier_hyper on dataset chara_10x10\n"
     ]
    }
   ],
   "source": [
    "hyper(\"hyper/RidgeClassifier_hyper.json\", [10])"
   ]
  },
  {
   "cell_type": "code",
   "execution_count": 19,
   "id": "43379e75",
   "metadata": {
    "execution": {
     "iopub.execute_input": "2025-05-29T08:30:28.946513Z",
     "iopub.status.busy": "2025-05-29T08:30:28.946068Z",
     "iopub.status.idle": "2025-05-29T09:06:01.680583Z",
     "shell.execute_reply": "2025-05-29T09:06:01.679372Z"
    },
    "papermill": {
     "duration": 2132.74212,
     "end_time": "2025-05-29T09:06:01.682447",
     "exception": false,
     "start_time": "2025-05-29T08:30:28.940327",
     "status": "completed"
    },
    "tags": []
   },
   "outputs": [
    {
     "name": "stdout",
     "output_type": "stream",
     "text": [
      "Runninng config MLPClassifier_hyper on dataset chara_3x3\n",
      "Runninng config MLPClassifier_hyper on dataset chara_4x4\n",
      "Runninng config MLPClassifier_hyper on dataset chara_5x5\n",
      "Runninng config MLPClassifier_hyper on dataset chara_6x6\n",
      "Runninng config MLPClassifier_hyper on dataset chara_10x10\n"
     ]
    }
   ],
   "source": [
    "hyper(\"hyper/MLPClassifier_hyper.json\")"
   ]
  },
  {
   "cell_type": "code",
   "execution_count": 20,
   "id": "1b2c6387",
   "metadata": {
    "execution": {
     "iopub.execute_input": "2025-05-29T09:06:01.695407Z",
     "iopub.status.busy": "2025-05-29T09:06:01.695044Z",
     "iopub.status.idle": "2025-05-29T09:06:01.699419Z",
     "shell.execute_reply": "2025-05-29T09:06:01.698474Z"
    },
    "papermill": {
     "duration": 0.013149,
     "end_time": "2025-05-29T09:06:01.701132",
     "exception": false,
     "start_time": "2025-05-29T09:06:01.687983",
     "status": "completed"
    },
    "tags": []
   },
   "outputs": [],
   "source": [
    "#hyper(\"/kaggle/working/hyper/GradientBoostingClassifier_hyper.json\")"
   ]
  },
  {
   "cell_type": "code",
   "execution_count": 21,
   "id": "e21fa7e1",
   "metadata": {
    "execution": {
     "iopub.execute_input": "2025-05-29T09:06:01.713482Z",
     "iopub.status.busy": "2025-05-29T09:06:01.713139Z",
     "iopub.status.idle": "2025-05-29T09:06:01.717994Z",
     "shell.execute_reply": "2025-05-29T09:06:01.716940Z"
    },
    "papermill": {
     "duration": 0.013205,
     "end_time": "2025-05-29T09:06:01.719722",
     "exception": false,
     "start_time": "2025-05-29T09:06:01.706517",
     "status": "completed"
    },
    "tags": []
   },
   "outputs": [],
   "source": [
    "#hyper(\"/kaggle/working/hyper/RandomForestClassifier_hyper.json\")"
   ]
  },
  {
   "cell_type": "code",
   "execution_count": 22,
   "id": "93901560",
   "metadata": {
    "execution": {
     "iopub.execute_input": "2025-05-29T09:06:01.731558Z",
     "iopub.status.busy": "2025-05-29T09:06:01.731219Z",
     "iopub.status.idle": "2025-05-29T09:06:01.735331Z",
     "shell.execute_reply": "2025-05-29T09:06:01.734446Z"
    },
    "papermill": {
     "duration": 0.011921,
     "end_time": "2025-05-29T09:06:01.736977",
     "exception": false,
     "start_time": "2025-05-29T09:06:01.725056",
     "status": "completed"
    },
    "tags": []
   },
   "outputs": [],
   "source": [
    "#hyper(\"/kaggle/working/hyper/HistGradientBoostingClassifier_hyper.json\")"
   ]
  }
 ],
 "metadata": {
  "colab": {
   "provenance": []
  },
  "kaggle": {
   "accelerator": "none",
   "dataSources": [
    {
     "datasetId": 7505141,
     "sourceId": 11992428,
     "sourceType": "datasetVersion"
    }
   ],
   "dockerImageVersionId": 31040,
   "isGpuEnabled": false,
   "isInternetEnabled": false,
   "language": "python",
   "sourceType": "notebook"
  },
  "kernelspec": {
   "display_name": "Python 3",
   "language": "python",
   "name": "python3"
  },
  "language_info": {
   "codemirror_mode": {
    "name": "ipython",
    "version": 3
   },
   "file_extension": ".py",
   "mimetype": "text/x-python",
   "name": "python",
   "nbconvert_exporter": "python",
   "pygments_lexer": "ipython3",
   "version": "3.11.11"
  },
  "papermill": {
   "default_parameters": {},
   "duration": 4795.220902,
   "end_time": "2025-05-29T09:06:02.368511",
   "environment_variables": {},
   "exception": null,
   "input_path": "__notebook__.ipynb",
   "output_path": "__notebook__.ipynb",
   "parameters": {},
   "start_time": "2025-05-29T07:46:07.147609",
   "version": "2.6.0"
  }
 },
 "nbformat": 4,
 "nbformat_minor": 5
}

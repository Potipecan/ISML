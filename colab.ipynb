{
 "cells": [
  {
   "cell_type": "code",
   "execution_count": 1,
   "id": "dcd8b55b",
   "metadata": {
    "execution": {
     "iopub.execute_input": "2025-05-31T08:16:19.599098Z",
     "iopub.status.busy": "2025-05-31T08:16:19.598786Z",
     "iopub.status.idle": "2025-05-31T08:16:22.089491Z",
     "shell.execute_reply": "2025-05-31T08:16:22.088381Z"
    },
    "id": "vjUPsXpv7Agr",
    "papermill": {
     "duration": 2.496194,
     "end_time": "2025-05-31T08:16:22.091325",
     "exception": false,
     "start_time": "2025-05-31T08:16:19.595131",
     "status": "completed"
    },
    "tags": []
   },
   "outputs": [
    {
     "name": "stdout",
     "output_type": "stream",
     "text": [
      "/kaggle/input/github\n"
     ]
    }
   ],
   "source": [
    "%cd /kaggle/input/github\n",
    "!mkdir -p /kaggle/working/results\n",
    "from pathlib import Path\n",
    "import train as tr\n",
    "import os\n",
    "\n",
    "res_dir = '/kaggle/working/results'\n",
    "\n",
    "def cv(conf, c_file = \"characteristics/chara_2x2.csv\"):\n",
    "    \n",
    "    conf_path = Path(conf)\n",
    "    c_path = Path(c_file)\n",
    "    print(f\"Runninng config {conf_path.stem} on dataset {c_path.stem}\")\n",
    "    res_path = f\"{res_dir}/{conf_path.stem}-{c_path.stem}.json\"\n",
    "    tr.train(res_path, conf, c_file, False)"
   ]
  },
  {
   "cell_type": "code",
   "execution_count": 2,
   "id": "9a450781",
   "metadata": {
    "execution": {
     "iopub.execute_input": "2025-05-31T08:16:22.097353Z",
     "iopub.status.busy": "2025-05-31T08:16:22.096940Z",
     "iopub.status.idle": "2025-05-31T08:16:22.563824Z",
     "shell.execute_reply": "2025-05-31T08:16:22.562256Z"
    },
    "id": "Mp21piljq7YC",
    "papermill": {
     "duration": 0.471928,
     "end_time": "2025-05-31T08:16:22.565558",
     "exception": false,
     "start_time": "2025-05-31T08:16:22.093630",
     "status": "completed"
    },
    "tags": []
   },
   "outputs": [
    {
     "name": "stdout",
     "output_type": "stream",
     "text": [
      "/kaggle/input/github\n"
     ]
    }
   ],
   "source": [
    "%cd /kaggle/input/github/\n",
    "!mkdir -p /kaggle/working/hyper\n",
    "\n",
    "# generate known result configs\n",
    "import os\n",
    "import json\n",
    "\n",
    "\n",
    "for f in os.scandir('/kaggle/input/github/results'):\n",
    "  name = f.name.split(\"_\")[0]\n",
    "  j = json.load(open(f, 'rt'))\n",
    "  d = {\n",
    "      \"model\": name,\n",
    "      \"hyper\": j['hyperparams'],\n",
    "  }\n",
    "  with open(f\"/kaggle/working/hyper/{name}_hyper.json\", 'w') as f:\n",
    "    json.dump(d, f)\n",
    "\n",
    "def hyper(conf, sizes=[3, 4, 5, 6, 10]):\n",
    "    for s in sizes:\n",
    "        chara_f = f\"/kaggle/input/github/characteristics/chara_{s}x{s}.csv\"\n",
    "        cv(conf, chara_f)\n",
    "\n"
   ]
  },
  {
   "cell_type": "code",
   "execution_count": 3,
   "id": "9e919b13",
   "metadata": {
    "execution": {
     "iopub.execute_input": "2025-05-31T08:16:22.570904Z",
     "iopub.status.busy": "2025-05-31T08:16:22.570557Z",
     "iopub.status.idle": "2025-05-31T08:20:13.164287Z",
     "shell.execute_reply": "2025-05-31T08:20:13.163176Z"
    },
    "papermill": {
     "duration": 230.598761,
     "end_time": "2025-05-31T08:20:13.166267",
     "exception": false,
     "start_time": "2025-05-31T08:16:22.567506",
     "status": "completed"
    },
    "tags": []
   },
   "outputs": [
    {
     "name": "stdout",
     "output_type": "stream",
     "text": [
      "/kaggle/input/github/train_confs\n",
      "Runninng config GaussianNB_cv on dataset chara_2x2\n"
     ]
    },
    {
     "name": "stderr",
     "output_type": "stream",
     "text": [
      "/usr/local/lib/python3.11/dist-packages/sklearn/model_selection/_search.py:305: UserWarning: The total space of parameters 3 is smaller than n_iter=10. Running 3 iterations. For exhaustive searches, use GridSearchCV.\n",
      "  warnings.warn(\n",
      "/usr/local/lib/python3.11/dist-packages/sklearn/metrics/_classification.py:1344: UndefinedMetricWarning: Precision and F-score are ill-defined and being set to 0.0 in labels with no predicted samples. Use `zero_division` parameter to control this behavior.\n",
      "  _warn_prf(average, modifier, msg_start, len(result))\n",
      "/usr/local/lib/python3.11/dist-packages/sklearn/metrics/_classification.py:1344: UndefinedMetricWarning: Precision and F-score are ill-defined and being set to 0.0 in labels with no predicted samples. Use `zero_division` parameter to control this behavior.\n",
      "  _warn_prf(average, modifier, msg_start, len(result))\n",
      "/usr/local/lib/python3.11/dist-packages/sklearn/metrics/_classification.py:1344: UndefinedMetricWarning: Precision and F-score are ill-defined and being set to 0.0 in labels with no predicted samples. Use `zero_division` parameter to control this behavior.\n",
      "  _warn_prf(average, modifier, msg_start, len(result))\n"
     ]
    },
    {
     "name": "stdout",
     "output_type": "stream",
     "text": [
      "Runninng config GaussianNB_cv on dataset chara_3x3\n"
     ]
    },
    {
     "name": "stderr",
     "output_type": "stream",
     "text": [
      "/usr/local/lib/python3.11/dist-packages/sklearn/model_selection/_search.py:305: UserWarning: The total space of parameters 3 is smaller than n_iter=10. Running 3 iterations. For exhaustive searches, use GridSearchCV.\n",
      "  warnings.warn(\n"
     ]
    },
    {
     "name": "stdout",
     "output_type": "stream",
     "text": [
      "Runninng config GaussianNB_cv on dataset chara_4x4\n"
     ]
    },
    {
     "name": "stderr",
     "output_type": "stream",
     "text": [
      "/usr/local/lib/python3.11/dist-packages/sklearn/model_selection/_search.py:305: UserWarning: The total space of parameters 3 is smaller than n_iter=10. Running 3 iterations. For exhaustive searches, use GridSearchCV.\n",
      "  warnings.warn(\n"
     ]
    },
    {
     "name": "stdout",
     "output_type": "stream",
     "text": [
      "Runninng config GaussianNB_cv on dataset chara_5x5\n"
     ]
    },
    {
     "name": "stderr",
     "output_type": "stream",
     "text": [
      "/usr/local/lib/python3.11/dist-packages/sklearn/model_selection/_search.py:305: UserWarning: The total space of parameters 3 is smaller than n_iter=10. Running 3 iterations. For exhaustive searches, use GridSearchCV.\n",
      "  warnings.warn(\n"
     ]
    },
    {
     "name": "stdout",
     "output_type": "stream",
     "text": [
      "Runninng config GaussianNB_cv on dataset chara_6x6\n"
     ]
    },
    {
     "name": "stderr",
     "output_type": "stream",
     "text": [
      "/usr/local/lib/python3.11/dist-packages/sklearn/model_selection/_search.py:305: UserWarning: The total space of parameters 3 is smaller than n_iter=10. Running 3 iterations. For exhaustive searches, use GridSearchCV.\n",
      "  warnings.warn(\n"
     ]
    },
    {
     "name": "stdout",
     "output_type": "stream",
     "text": [
      "Runninng config GaussianNB_cv on dataset chara_10x10\n"
     ]
    },
    {
     "name": "stderr",
     "output_type": "stream",
     "text": [
      "/usr/local/lib/python3.11/dist-packages/sklearn/model_selection/_search.py:305: UserWarning: The total space of parameters 3 is smaller than n_iter=10. Running 3 iterations. For exhaustive searches, use GridSearchCV.\n",
      "  warnings.warn(\n"
     ]
    }
   ],
   "source": [
    "%cd /kaggle/input/github/train_confs\n",
    "hyper(\"cv/GaussianNB_cv.json\", [2, 3, 4, 5, 6, 10])"
   ]
  }
 ],
 "metadata": {
  "colab": {
   "provenance": []
  },
  "kaggle": {
   "accelerator": "none",
   "dataSources": [
    {
     "databundleVersionId": 12533307,
     "datasetId": 7505141,
     "sourceId": 12014516,
     "sourceType": "datasetVersion"
    }
   ],
   "dockerImageVersionId": 31040,
   "isGpuEnabled": false,
   "isInternetEnabled": false,
   "language": "python",
   "sourceType": "notebook"
  },
  "kernelspec": {
   "display_name": "Python 3",
   "language": "python",
   "name": "python3"
  },
  "language_info": {
   "codemirror_mode": {
    "name": "ipython",
    "version": 3
   },
   "file_extension": ".py",
   "mimetype": "text/x-python",
   "name": "python",
   "nbconvert_exporter": "python",
   "pygments_lexer": "ipython3",
   "version": "3.11.11"
  },
  "papermill": {
   "default_parameters": {},
   "duration": 241.534002,
   "end_time": "2025-05-31T08:20:15.788735",
   "environment_variables": {},
   "exception": null,
   "input_path": "__notebook__.ipynb",
   "output_path": "__notebook__.ipynb",
   "parameters": {},
   "start_time": "2025-05-31T08:16:14.254733",
   "version": "2.6.0"
  }
 },
 "nbformat": 4,
 "nbformat_minor": 5
}

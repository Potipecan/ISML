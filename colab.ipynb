{
  "cells": [
    {
      "cell_type": "markdown",
      "metadata": {
        "id": "view-in-github",
        "colab_type": "text"
      },
      "source": [
        "<a href=\"https://colab.research.google.com/github/Potipecan/ISML/blob/main/colab.ipynb\" target=\"_parent\"><img src=\"https://colab.research.google.com/assets/colab-badge.svg\" alt=\"Open In Colab\"/></a>"
      ]
    },
    {
      "cell_type": "code",
      "execution_count": 2,
      "id": "initial_id",
      "metadata": {
        "collapsed": true,
        "id": "initial_id",
        "outputId": "7745134e-88ad-4029-cf71-9c34fd7ac601",
        "colab": {
          "base_uri": "https://localhost:8080/"
        }
      },
      "outputs": [
        {
          "output_type": "stream",
          "name": "stdout",
          "text": [
            "Mounted at /content/drive\n"
          ]
        }
      ],
      "source": [
        "from google.colab import drive\n",
        "drive.mount(\"/content/drive\")"
      ]
    },
    {
      "cell_type": "code",
      "source": [
        "# pull github repo\n",
        "\n",
        "%cd /content/drive/MyDrive/\n",
        "%mkdir github\n",
        "%cd github\n",
        "!git clone https://github.com/Potipecan/ISML.git\n",
        "%cd ISML"
      ],
      "metadata": {
        "id": "EeF9ZDPl4_g7",
        "outputId": "8765785a-aae2-4280-d306-0d085720ba08",
        "colab": {
          "base_uri": "https://localhost:8080/"
        }
      },
      "id": "EeF9ZDPl4_g7",
      "execution_count": 8,
      "outputs": [
        {
          "output_type": "stream",
          "name": "stdout",
          "text": [
            "/content/drive/MyDrive\n",
            "/content/drive/MyDrive/github\n",
            "Cloning into 'ISML'...\n",
            "remote: Enumerating objects: 54, done.\u001b[K\n",
            "remote: Counting objects: 100% (3/3), done.\u001b[K\n",
            "remote: Compressing objects: 100% (3/3), done.\u001b[K\n",
            "remote: Total 54 (delta 0), reused 2 (delta 0), pack-reused 51 (from 1)\u001b[K\n",
            "Receiving objects: 100% (54/54), 66.38 MiB | 14.57 MiB/s, done.\n",
            "Resolving deltas: 100% (13/13), done.\n",
            "Updating files: 100% (16/16), done.\n"
          ]
        }
      ]
    },
    {
      "cell_type": "code",
      "source": [
        "# pull changes\n",
        "%cd /content/drive/MyDrive/github/ISML\n",
        "!git pull"
      ],
      "metadata": {
        "id": "m_UWACBx6f-B",
        "outputId": "723f7f8a-cf16-485f-b842-5bcbc9ff2e1a",
        "colab": {
          "base_uri": "https://localhost:8080/"
        }
      },
      "id": "m_UWACBx6f-B",
      "execution_count": 9,
      "outputs": [
        {
          "output_type": "stream",
          "name": "stdout",
          "text": [
            "/content/drive/MyDrive/github/ISML\n",
            "Already up to date.\n"
          ]
        }
      ]
    }
  ],
  "metadata": {
    "kernelspec": {
      "display_name": "Python 3",
      "language": "python",
      "name": "python3"
    },
    "language_info": {
      "codemirror_mode": {
        "name": "ipython",
        "version": 2
      },
      "file_extension": ".py",
      "mimetype": "text/x-python",
      "name": "python",
      "nbconvert_exporter": "python",
      "pygments_lexer": "ipython2",
      "version": "2.7.6"
    },
    "colab": {
      "provenance": [],
      "include_colab_link": true
    }
  },
  "nbformat": 4,
  "nbformat_minor": 5
}